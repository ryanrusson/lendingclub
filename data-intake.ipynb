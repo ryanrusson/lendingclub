{
 "cells": [
  {
   "cell_type": "markdown",
   "metadata": {},
   "source": [
    "## Load in the data from Google Cloud Storage"
   ]
  },
  {
   "cell_type": "code",
   "execution_count": 21,
   "metadata": {},
   "outputs": [],
   "source": [
    "import pandas as pd\n",
    "import os\n",
    "import pandas_profiling\n",
    "DATA_BUCKET = 'gs://lending_club_toy_datasets/lending_club_data_v1.csv'\n",
    "#df = pd.read_csv(DATA_BUCKET, dtype=str)\n",
    "df = pd.read_csv(DATA_BUCKET)"
   ]
  },
  {
   "cell_type": "code",
   "execution_count": 22,
   "metadata": {},
   "outputs": [
    {
     "data": {
      "text/plain": [
       "1295"
      ]
     },
     "execution_count": 22,
     "metadata": {},
     "output_type": "execute_result"
    }
   ],
   "source": [
    "df.columns.tolist()\n",
    "len(df.query('is_bad == 1'))"
   ]
  },
  {
   "cell_type": "markdown",
   "metadata": {},
   "source": [
    "## Basic dataset info"
   ]
  },
  {
   "cell_type": "code",
   "execution_count": 23,
   "metadata": {},
   "outputs": [
    {
     "name": "stdout",
     "output_type": "stream",
     "text": [
      "Number of rows of data: 10000\n",
      "Number of columns: 28\n"
     ]
    }
   ],
   "source": [
    "print(\"Number of rows of data:\", df.shape[0])\n",
    "print(\"Number of columns:\", df.shape[1])"
   ]
  },
  {
   "cell_type": "code",
   "execution_count": 24,
   "metadata": {},
   "outputs": [
    {
     "data": {
      "text/html": [
       "<div>\n",
       "<style scoped>\n",
       "    .dataframe tbody tr th:only-of-type {\n",
       "        vertical-align: middle;\n",
       "    }\n",
       "\n",
       "    .dataframe tbody tr th {\n",
       "        vertical-align: top;\n",
       "    }\n",
       "\n",
       "    .dataframe thead th {\n",
       "        text-align: right;\n",
       "    }\n",
       "</style>\n",
       "<table border=\"1\" class=\"dataframe\">\n",
       "  <thead>\n",
       "    <tr style=\"text-align: right;\">\n",
       "      <th></th>\n",
       "      <th>Id</th>\n",
       "      <th>is_bad</th>\n",
       "      <th>emp_title</th>\n",
       "      <th>emp_length</th>\n",
       "      <th>home_ownership</th>\n",
       "      <th>annual_inc</th>\n",
       "      <th>verification_status</th>\n",
       "      <th>pymnt_plan</th>\n",
       "      <th>Notes</th>\n",
       "      <th>purpose_cat</th>\n",
       "      <th>...</th>\n",
       "      <th>mths_since_last_record</th>\n",
       "      <th>open_acc</th>\n",
       "      <th>pub_rec</th>\n",
       "      <th>revol_bal</th>\n",
       "      <th>revol_util</th>\n",
       "      <th>total_acc</th>\n",
       "      <th>initial_list_status</th>\n",
       "      <th>collections_12_mths_ex_med</th>\n",
       "      <th>mths_since_last_major_derog</th>\n",
       "      <th>policy_code</th>\n",
       "    </tr>\n",
       "  </thead>\n",
       "  <tbody>\n",
       "    <tr>\n",
       "      <th>0</th>\n",
       "      <td>1</td>\n",
       "      <td>0</td>\n",
       "      <td>Time Warner Cable</td>\n",
       "      <td>10</td>\n",
       "      <td>MORTGAGE</td>\n",
       "      <td>50000.0</td>\n",
       "      <td>not verified</td>\n",
       "      <td>n</td>\n",
       "      <td>NaN</td>\n",
       "      <td>medical</td>\n",
       "      <td>...</td>\n",
       "      <td>NaN</td>\n",
       "      <td>15.0</td>\n",
       "      <td>0.0</td>\n",
       "      <td>12087</td>\n",
       "      <td>12.1</td>\n",
       "      <td>44.0</td>\n",
       "      <td>f</td>\n",
       "      <td>0.0</td>\n",
       "      <td>1</td>\n",
       "      <td>PC4</td>\n",
       "    </tr>\n",
       "    <tr>\n",
       "      <th>1</th>\n",
       "      <td>2</td>\n",
       "      <td>0</td>\n",
       "      <td>Ottawa University</td>\n",
       "      <td>1</td>\n",
       "      <td>RENT</td>\n",
       "      <td>39216.0</td>\n",
       "      <td>not verified</td>\n",
       "      <td>n</td>\n",
       "      <td>Borrower added on 04/14/11 &gt; I will be using...</td>\n",
       "      <td>debt consolidation</td>\n",
       "      <td>...</td>\n",
       "      <td>NaN</td>\n",
       "      <td>4.0</td>\n",
       "      <td>0.0</td>\n",
       "      <td>10114</td>\n",
       "      <td>64.0</td>\n",
       "      <td>5.0</td>\n",
       "      <td>f</td>\n",
       "      <td>0.0</td>\n",
       "      <td>2</td>\n",
       "      <td>PC1</td>\n",
       "    </tr>\n",
       "    <tr>\n",
       "      <th>2</th>\n",
       "      <td>3</td>\n",
       "      <td>0</td>\n",
       "      <td>Kennedy Wilson</td>\n",
       "      <td>4</td>\n",
       "      <td>RENT</td>\n",
       "      <td>65000.0</td>\n",
       "      <td>not verified</td>\n",
       "      <td>n</td>\n",
       "      <td>NaN</td>\n",
       "      <td>credit card</td>\n",
       "      <td>...</td>\n",
       "      <td>NaN</td>\n",
       "      <td>4.0</td>\n",
       "      <td>0.0</td>\n",
       "      <td>81</td>\n",
       "      <td>0.6</td>\n",
       "      <td>8.0</td>\n",
       "      <td>f</td>\n",
       "      <td>0.0</td>\n",
       "      <td>3</td>\n",
       "      <td>PC4</td>\n",
       "    </tr>\n",
       "    <tr>\n",
       "      <th>3</th>\n",
       "      <td>4</td>\n",
       "      <td>0</td>\n",
       "      <td>TOWN OF PLATTEKILL</td>\n",
       "      <td>10</td>\n",
       "      <td>MORTGAGE</td>\n",
       "      <td>57500.0</td>\n",
       "      <td>not verified</td>\n",
       "      <td>n</td>\n",
       "      <td>NaN</td>\n",
       "      <td>debt consolidation</td>\n",
       "      <td>...</td>\n",
       "      <td>NaN</td>\n",
       "      <td>6.0</td>\n",
       "      <td>0.0</td>\n",
       "      <td>10030</td>\n",
       "      <td>37.1</td>\n",
       "      <td>23.0</td>\n",
       "      <td>f</td>\n",
       "      <td>0.0</td>\n",
       "      <td>2</td>\n",
       "      <td>PC2</td>\n",
       "    </tr>\n",
       "    <tr>\n",
       "      <th>4</th>\n",
       "      <td>5</td>\n",
       "      <td>0</td>\n",
       "      <td>Belmont Correctional</td>\n",
       "      <td>10</td>\n",
       "      <td>MORTGAGE</td>\n",
       "      <td>50004.0</td>\n",
       "      <td>VERIFIED - income</td>\n",
       "      <td>n</td>\n",
       "      <td>I want to consolidate my debt, pay for a vacat...</td>\n",
       "      <td>debt consolidation</td>\n",
       "      <td>...</td>\n",
       "      <td>NaN</td>\n",
       "      <td>8.0</td>\n",
       "      <td>0.0</td>\n",
       "      <td>10740</td>\n",
       "      <td>40.4</td>\n",
       "      <td>21.0</td>\n",
       "      <td>f</td>\n",
       "      <td>0.0</td>\n",
       "      <td>3</td>\n",
       "      <td>PC3</td>\n",
       "    </tr>\n",
       "  </tbody>\n",
       "</table>\n",
       "<p>5 rows × 28 columns</p>\n",
       "</div>"
      ],
      "text/plain": [
       "   Id  is_bad             emp_title emp_length home_ownership  annual_inc  \\\n",
       "0   1       0     Time Warner Cable         10       MORTGAGE     50000.0   \n",
       "1   2       0     Ottawa University          1           RENT     39216.0   \n",
       "2   3       0        Kennedy Wilson          4           RENT     65000.0   \n",
       "3   4       0    TOWN OF PLATTEKILL         10       MORTGAGE     57500.0   \n",
       "4   5       0  Belmont Correctional         10       MORTGAGE     50004.0   \n",
       "\n",
       "  verification_status pymnt_plan  \\\n",
       "0        not verified          n   \n",
       "1        not verified          n   \n",
       "2        not verified          n   \n",
       "3        not verified          n   \n",
       "4   VERIFIED - income          n   \n",
       "\n",
       "                                               Notes         purpose_cat  ...  \\\n",
       "0                                                NaN             medical  ...   \n",
       "1    Borrower added on 04/14/11 > I will be using...  debt consolidation  ...   \n",
       "2                                                NaN         credit card  ...   \n",
       "3                                                NaN  debt consolidation  ...   \n",
       "4  I want to consolidate my debt, pay for a vacat...  debt consolidation  ...   \n",
       "\n",
       "  mths_since_last_record open_acc pub_rec  revol_bal  revol_util total_acc  \\\n",
       "0                    NaN     15.0     0.0      12087        12.1      44.0   \n",
       "1                    NaN      4.0     0.0      10114        64.0       5.0   \n",
       "2                    NaN      4.0     0.0         81         0.6       8.0   \n",
       "3                    NaN      6.0     0.0      10030        37.1      23.0   \n",
       "4                    NaN      8.0     0.0      10740        40.4      21.0   \n",
       "\n",
       "   initial_list_status  collections_12_mths_ex_med  \\\n",
       "0                    f                         0.0   \n",
       "1                    f                         0.0   \n",
       "2                    f                         0.0   \n",
       "3                    f                         0.0   \n",
       "4                    f                         0.0   \n",
       "\n",
       "   mths_since_last_major_derog  policy_code  \n",
       "0                            1          PC4  \n",
       "1                            2          PC1  \n",
       "2                            3          PC4  \n",
       "3                            2          PC2  \n",
       "4                            3          PC3  \n",
       "\n",
       "[5 rows x 28 columns]"
      ]
     },
     "execution_count": 24,
     "metadata": {},
     "output_type": "execute_result"
    }
   ],
   "source": [
    "df.head(5)"
   ]
  },
  {
   "cell_type": "markdown",
   "metadata": {},
   "source": [
    "## Dataset schema"
   ]
  },
  {
   "cell_type": "code",
   "execution_count": 25,
   "metadata": {},
   "outputs": [],
   "source": [
    "# Create a raw profile report\n",
    "profile_file = './ls_profile_report_raw.html'\n",
    "\n",
    "override = False\n",
    "if not os.path.exists(profile_file) or override:    \n",
    "    profile = df.profile_report(title='Raw Lending Club Data Profile Report')\n",
    "    profile.to_file(output_file=profile_file)"
   ]
  },
  {
   "cell_type": "markdown",
   "metadata": {},
   "source": [
    "## Drop columns with high cardinality"
   ]
  },
  {
   "cell_type": "code",
   "execution_count": 26,
   "metadata": {},
   "outputs": [],
   "source": [
    "df.drop('Id', axis=1, inplace=True)\n",
    "df.drop('Notes', axis=1, inplace=True)\n",
    "df.drop('purpose', axis=1, inplace=True)\n",
    "df.drop('emp_title', axis=1, inplace=True)"
   ]
  },
  {
   "cell_type": "markdown",
   "metadata": {},
   "source": [
    "## Save off the data for the EDA"
   ]
  },
  {
   "cell_type": "code",
   "execution_count": 27,
   "metadata": {},
   "outputs": [],
   "source": [
    "# Want to conserve the schema information from above\n",
    "df.to_pickle(\"./data/ingest_data.pkl\") "
   ]
  },
  {
   "cell_type": "code",
   "execution_count": 28,
   "metadata": {},
   "outputs": [],
   "source": [
    "# Save CSV for quick reference in the notebook\n",
    "df.to_csv(\"./data/ingest_data.csv\", index=False)"
   ]
  },
  {
   "cell_type": "code",
   "execution_count": 29,
   "metadata": {},
   "outputs": [
    {
     "name": "stdout",
     "output_type": "stream",
     "text": [
      "Categorial Columns: ['earliest_cr_line', 'purpose_cat', 'zip_code', 'home_ownership', 'pymnt_plan', 'emp_length', 'policy_code', 'addr_state', 'verification_status', 'initial_list_status']\n",
      "\n",
      "Numerical Columns: ['is_bad', 'annual_inc', 'debt_to_income', 'delinq_2yrs', 'inq_last_6mths', 'mths_since_last_delinq', 'mths_since_last_record', 'open_acc', 'pub_rec', 'revol_bal', 'revol_util', 'total_acc', 'collections_12_mths_ex_med', 'mths_since_last_major_derog']\n"
     ]
    }
   ],
   "source": [
    "# Now list out the final numerical and categorical columns\n",
    "num_cols = list(df._get_numeric_data().columns)\n",
    "cat_cols = list(set(df.columns) - set(df._get_numeric_data().columns))\n",
    "\n",
    "print(\"Categorial Columns:\", cat_cols)\n",
    "print()\n",
    "print(\"Numerical Columns:\", num_cols)"
   ]
  },
  {
   "cell_type": "code",
   "execution_count": 30,
   "metadata": {},
   "outputs": [
    {
     "data": {
      "text/plain": [
       "24"
      ]
     },
     "execution_count": 30,
     "metadata": {},
     "output_type": "execute_result"
    }
   ],
   "source": [
    "# Check the lengths of the columns to ensure you didn't miss any\n",
    "len(cat_cols + num_cols)"
   ]
  },
  {
   "cell_type": "code",
   "execution_count": null,
   "metadata": {},
   "outputs": [],
   "source": []
  }
 ],
 "metadata": {
  "kernelspec": {
   "display_name": "Python 3",
   "language": "python",
   "name": "python3"
  },
  "language_info": {
   "codemirror_mode": {
    "name": "ipython",
    "version": 3
   },
   "file_extension": ".py",
   "mimetype": "text/x-python",
   "name": "python",
   "nbconvert_exporter": "python",
   "pygments_lexer": "ipython3",
   "version": "3.7.6"
  }
 },
 "nbformat": 4,
 "nbformat_minor": 4
}
