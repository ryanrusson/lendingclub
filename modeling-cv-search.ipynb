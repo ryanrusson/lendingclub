{
 "cells": [
  {
   "cell_type": "markdown",
   "metadata": {},
   "source": [
    "## Modeling"
   ]
  },
  {
   "cell_type": "code",
   "execution_count": 80,
   "metadata": {},
   "outputs": [],
   "source": [
    "import pandas as pd\n",
    "import numpy as np\n",
    "import matplotlib.pyplot as plt\n",
    "import os\n",
    "\n",
    "# Read in the data from the .pkl\n",
    "df = pd.read_pickle(\"./data/baseline_fe_data.pkl\")\n",
    "\n",
    "num_cols = list(df._get_numeric_data().columns)\n",
    "cat_cols = list(set(df.columns) - set(df._get_numeric_data().columns))\n",
    "target = ['is_bad']\n",
    "num_cols.remove('is_bad')"
   ]
  },
  {
   "cell_type": "code",
   "execution_count": 81,
   "metadata": {},
   "outputs": [
    {
     "data": {
      "text/plain": [
       "home_ownership         object\n",
       "zip_code               object\n",
       "pymnt_plan             object\n",
       "purpose_cat            object\n",
       "verification_status    object\n",
       "initial_list_status    object\n",
       "policy_code            object\n",
       "addr_state             object\n",
       "dtype: object"
      ]
     },
     "execution_count": 81,
     "metadata": {},
     "output_type": "execute_result"
    }
   ],
   "source": [
    "df[cat_cols].dtypes"
   ]
  },
  {
   "cell_type": "code",
   "execution_count": 82,
   "metadata": {},
   "outputs": [
    {
     "data": {
      "text/plain": [
       "emp_length                       int64\n",
       "annual_inc                     float64\n",
       "debt_to_income                 float64\n",
       "delinq_2yrs                    float64\n",
       "inq_last_6mths                 float64\n",
       "mths_since_last_delinq         float64\n",
       "mths_since_last_record           int64\n",
       "open_acc                       float64\n",
       "pub_rec                          int64\n",
       "revol_bal                        int64\n",
       "revol_util                     float64\n",
       "total_acc                      float64\n",
       "mths_since_last_major_derog      int64\n",
       "cr_line_yrs                    float64\n",
       "cr_line_mths                     int64\n",
       "dtype: object"
      ]
     },
     "execution_count": 82,
     "metadata": {},
     "output_type": "execute_result"
    }
   ],
   "source": [
    "df[num_cols].dtypes"
   ]
  },
  {
   "cell_type": "code",
   "execution_count": 83,
   "metadata": {},
   "outputs": [
    {
     "data": {
      "text/plain": [
       "is_bad    int64\n",
       "dtype: object"
      ]
     },
     "execution_count": 83,
     "metadata": {},
     "output_type": "execute_result"
    }
   ],
   "source": [
    "df[target].dtypes"
   ]
  },
  {
   "cell_type": "code",
   "execution_count": 84,
   "metadata": {},
   "outputs": [
    {
     "name": "stdout",
     "output_type": "stream",
     "text": [
      "<class 'pandas.core.frame.DataFrame'>\n",
      "RangeIndex: 10000 entries, 0 to 9999\n",
      "Data columns (total 24 columns):\n",
      " #   Column                       Non-Null Count  Dtype  \n",
      "---  ------                       --------------  -----  \n",
      " 0   is_bad                       10000 non-null  int64  \n",
      " 1   emp_length                   10000 non-null  int64  \n",
      " 2   home_ownership               10000 non-null  object \n",
      " 3   annual_inc                   10000 non-null  float64\n",
      " 4   verification_status          10000 non-null  object \n",
      " 5   pymnt_plan                   10000 non-null  object \n",
      " 6   purpose_cat                  10000 non-null  object \n",
      " 7   zip_code                     10000 non-null  object \n",
      " 8   addr_state                   10000 non-null  object \n",
      " 9   debt_to_income               10000 non-null  float64\n",
      " 10  delinq_2yrs                  10000 non-null  float64\n",
      " 11  inq_last_6mths               10000 non-null  float64\n",
      " 12  mths_since_last_delinq       10000 non-null  float64\n",
      " 13  mths_since_last_record       10000 non-null  int64  \n",
      " 14  open_acc                     10000 non-null  float64\n",
      " 15  pub_rec                      10000 non-null  int64  \n",
      " 16  revol_bal                    10000 non-null  int64  \n",
      " 17  revol_util                   10000 non-null  float64\n",
      " 18  total_acc                    10000 non-null  float64\n",
      " 19  initial_list_status          10000 non-null  object \n",
      " 20  mths_since_last_major_derog  10000 non-null  int64  \n",
      " 21  policy_code                  10000 non-null  object \n",
      " 22  cr_line_yrs                  10000 non-null  float64\n",
      " 23  cr_line_mths                 10000 non-null  int64  \n",
      "dtypes: float64(9), int64(7), object(8)\n",
      "memory usage: 1.8+ MB\n"
     ]
    }
   ],
   "source": [
    "df.info()"
   ]
  },
  {
   "cell_type": "code",
   "execution_count": 85,
   "metadata": {},
   "outputs": [],
   "source": [
    "#def zip_region(x):\n",
    "#    return x[1:3]\n",
    "#\n",
    "#df['zip_region'] = df.zip_code.apply(zip_region)\n",
    "df.drop('zip_code', axis=1, inplace=True)"
   ]
  },
  {
   "cell_type": "code",
   "execution_count": 86,
   "metadata": {},
   "outputs": [
    {
     "name": "stdout",
     "output_type": "stream",
     "text": [
      "<class 'pandas.core.frame.DataFrame'>\n",
      "RangeIndex: 10000 entries, 0 to 9999\n",
      "Data columns (total 23 columns):\n",
      " #   Column                       Non-Null Count  Dtype  \n",
      "---  ------                       --------------  -----  \n",
      " 0   is_bad                       10000 non-null  int64  \n",
      " 1   emp_length                   10000 non-null  int64  \n",
      " 2   home_ownership               10000 non-null  object \n",
      " 3   annual_inc                   10000 non-null  float64\n",
      " 4   verification_status          10000 non-null  object \n",
      " 5   pymnt_plan                   10000 non-null  object \n",
      " 6   purpose_cat                  10000 non-null  object \n",
      " 7   addr_state                   10000 non-null  object \n",
      " 8   debt_to_income               10000 non-null  float64\n",
      " 9   delinq_2yrs                  10000 non-null  float64\n",
      " 10  inq_last_6mths               10000 non-null  float64\n",
      " 11  mths_since_last_delinq       10000 non-null  float64\n",
      " 12  mths_since_last_record       10000 non-null  int64  \n",
      " 13  open_acc                     10000 non-null  float64\n",
      " 14  pub_rec                      10000 non-null  int64  \n",
      " 15  revol_bal                    10000 non-null  int64  \n",
      " 16  revol_util                   10000 non-null  float64\n",
      " 17  total_acc                    10000 non-null  float64\n",
      " 18  initial_list_status          10000 non-null  object \n",
      " 19  mths_since_last_major_derog  10000 non-null  int64  \n",
      " 20  policy_code                  10000 non-null  object \n",
      " 21  cr_line_yrs                  10000 non-null  float64\n",
      " 22  cr_line_mths                 10000 non-null  int64  \n",
      "dtypes: float64(9), int64(7), object(7)\n",
      "memory usage: 1.8+ MB\n"
     ]
    }
   ],
   "source": [
    "df.info()"
   ]
  },
  {
   "cell_type": "markdown",
   "metadata": {},
   "source": [
    "## Log transformation of numeric parameters"
   ]
  },
  {
   "cell_type": "code",
   "execution_count": 87,
   "metadata": {},
   "outputs": [
    {
     "data": {
      "text/html": [
       "<div>\n",
       "<style scoped>\n",
       "    .dataframe tbody tr th:only-of-type {\n",
       "        vertical-align: middle;\n",
       "    }\n",
       "\n",
       "    .dataframe tbody tr th {\n",
       "        vertical-align: top;\n",
       "    }\n",
       "\n",
       "    .dataframe thead th {\n",
       "        text-align: right;\n",
       "    }\n",
       "</style>\n",
       "<table border=\"1\" class=\"dataframe\">\n",
       "  <thead>\n",
       "    <tr style=\"text-align: right;\">\n",
       "      <th></th>\n",
       "      <th>emp_length</th>\n",
       "      <th>annual_inc</th>\n",
       "      <th>delinq_2yrs</th>\n",
       "      <th>inq_last_6mths</th>\n",
       "      <th>mths_since_last_delinq</th>\n",
       "      <th>mths_since_last_record</th>\n",
       "      <th>open_acc</th>\n",
       "      <th>pub_rec</th>\n",
       "      <th>revol_bal</th>\n",
       "      <th>total_acc</th>\n",
       "      <th>mths_since_last_major_derog</th>\n",
       "      <th>cr_line_yrs</th>\n",
       "      <th>cr_line_mths</th>\n",
       "    </tr>\n",
       "  </thead>\n",
       "  <tbody>\n",
       "    <tr>\n",
       "      <th>0</th>\n",
       "      <td>2.397895</td>\n",
       "      <td>10.819798</td>\n",
       "      <td>0.000000</td>\n",
       "      <td>0.000000</td>\n",
       "      <td>0.000000</td>\n",
       "      <td>4.787492</td>\n",
       "      <td>2.772589</td>\n",
       "      <td>0.000000</td>\n",
       "      <td>9.399969</td>\n",
       "      <td>3.806662</td>\n",
       "      <td>0.693147</td>\n",
       "      <td>7.597396</td>\n",
       "      <td>2.564949</td>\n",
       "    </tr>\n",
       "    <tr>\n",
       "      <th>1</th>\n",
       "      <td>0.693147</td>\n",
       "      <td>10.576866</td>\n",
       "      <td>0.000000</td>\n",
       "      <td>1.098612</td>\n",
       "      <td>0.000000</td>\n",
       "      <td>4.787492</td>\n",
       "      <td>1.609438</td>\n",
       "      <td>0.000000</td>\n",
       "      <td>9.221775</td>\n",
       "      <td>1.791759</td>\n",
       "      <td>1.098612</td>\n",
       "      <td>7.603898</td>\n",
       "      <td>2.484907</td>\n",
       "    </tr>\n",
       "    <tr>\n",
       "      <th>2</th>\n",
       "      <td>1.609438</td>\n",
       "      <td>11.082158</td>\n",
       "      <td>0.000000</td>\n",
       "      <td>0.000000</td>\n",
       "      <td>0.000000</td>\n",
       "      <td>4.787492</td>\n",
       "      <td>1.609438</td>\n",
       "      <td>0.000000</td>\n",
       "      <td>4.406719</td>\n",
       "      <td>2.197225</td>\n",
       "      <td>1.386294</td>\n",
       "      <td>7.586296</td>\n",
       "      <td>1.945910</td>\n",
       "    </tr>\n",
       "    <tr>\n",
       "      <th>3</th>\n",
       "      <td>2.397895</td>\n",
       "      <td>10.959558</td>\n",
       "      <td>0.693147</td>\n",
       "      <td>0.000000</td>\n",
       "      <td>2.833213</td>\n",
       "      <td>4.787492</td>\n",
       "      <td>1.945910</td>\n",
       "      <td>0.000000</td>\n",
       "      <td>9.213436</td>\n",
       "      <td>3.178054</td>\n",
       "      <td>1.098612</td>\n",
       "      <td>7.592366</td>\n",
       "      <td>2.302585</td>\n",
       "    </tr>\n",
       "    <tr>\n",
       "      <th>4</th>\n",
       "      <td>2.397895</td>\n",
       "      <td>10.819878</td>\n",
       "      <td>0.000000</td>\n",
       "      <td>1.609438</td>\n",
       "      <td>0.000000</td>\n",
       "      <td>4.787492</td>\n",
       "      <td>2.197225</td>\n",
       "      <td>0.000000</td>\n",
       "      <td>9.281823</td>\n",
       "      <td>3.091042</td>\n",
       "      <td>1.386294</td>\n",
       "      <td>7.600902</td>\n",
       "      <td>2.397895</td>\n",
       "    </tr>\n",
       "    <tr>\n",
       "      <th>...</th>\n",
       "      <td>...</td>\n",
       "      <td>...</td>\n",
       "      <td>...</td>\n",
       "      <td>...</td>\n",
       "      <td>...</td>\n",
       "      <td>...</td>\n",
       "      <td>...</td>\n",
       "      <td>...</td>\n",
       "      <td>...</td>\n",
       "      <td>...</td>\n",
       "      <td>...</td>\n",
       "      <td>...</td>\n",
       "      <td>...</td>\n",
       "    </tr>\n",
       "    <tr>\n",
       "      <th>9995</th>\n",
       "      <td>1.791759</td>\n",
       "      <td>11.101206</td>\n",
       "      <td>0.000000</td>\n",
       "      <td>0.693147</td>\n",
       "      <td>0.000000</td>\n",
       "      <td>4.787492</td>\n",
       "      <td>2.197225</td>\n",
       "      <td>0.000000</td>\n",
       "      <td>8.204398</td>\n",
       "      <td>2.397895</td>\n",
       "      <td>1.098612</td>\n",
       "      <td>7.601902</td>\n",
       "      <td>2.302585</td>\n",
       "    </tr>\n",
       "    <tr>\n",
       "      <th>9996</th>\n",
       "      <td>0.693147</td>\n",
       "      <td>10.165890</td>\n",
       "      <td>0.000000</td>\n",
       "      <td>0.693147</td>\n",
       "      <td>4.382027</td>\n",
       "      <td>4.787492</td>\n",
       "      <td>2.197225</td>\n",
       "      <td>0.000000</td>\n",
       "      <td>8.811354</td>\n",
       "      <td>2.564949</td>\n",
       "      <td>1.098612</td>\n",
       "      <td>7.601402</td>\n",
       "      <td>1.791759</td>\n",
       "    </tr>\n",
       "    <tr>\n",
       "      <th>9997</th>\n",
       "      <td>2.197225</td>\n",
       "      <td>10.775450</td>\n",
       "      <td>0.000000</td>\n",
       "      <td>0.000000</td>\n",
       "      <td>0.000000</td>\n",
       "      <td>4.718499</td>\n",
       "      <td>2.302585</td>\n",
       "      <td>0.693147</td>\n",
       "      <td>9.336709</td>\n",
       "      <td>2.890372</td>\n",
       "      <td>1.386294</td>\n",
       "      <td>7.595890</td>\n",
       "      <td>2.564949</td>\n",
       "    </tr>\n",
       "    <tr>\n",
       "      <th>9998</th>\n",
       "      <td>1.945910</td>\n",
       "      <td>11.156265</td>\n",
       "      <td>1.098612</td>\n",
       "      <td>1.098612</td>\n",
       "      <td>2.833213</td>\n",
       "      <td>4.787492</td>\n",
       "      <td>2.302585</td>\n",
       "      <td>0.000000</td>\n",
       "      <td>9.750220</td>\n",
       "      <td>3.332205</td>\n",
       "      <td>1.098612</td>\n",
       "      <td>7.600902</td>\n",
       "      <td>1.386294</td>\n",
       "    </tr>\n",
       "    <tr>\n",
       "      <th>9999</th>\n",
       "      <td>0.693147</td>\n",
       "      <td>11.164233</td>\n",
       "      <td>0.000000</td>\n",
       "      <td>0.693147</td>\n",
       "      <td>3.988984</td>\n",
       "      <td>4.787492</td>\n",
       "      <td>2.772589</td>\n",
       "      <td>0.000000</td>\n",
       "      <td>7.742836</td>\n",
       "      <td>3.555348</td>\n",
       "      <td>1.098612</td>\n",
       "      <td>7.601402</td>\n",
       "      <td>2.302585</td>\n",
       "    </tr>\n",
       "  </tbody>\n",
       "</table>\n",
       "<p>10000 rows × 13 columns</p>\n",
       "</div>"
      ],
      "text/plain": [
       "      emp_length  annual_inc  delinq_2yrs  inq_last_6mths  \\\n",
       "0       2.397895   10.819798     0.000000        0.000000   \n",
       "1       0.693147   10.576866     0.000000        1.098612   \n",
       "2       1.609438   11.082158     0.000000        0.000000   \n",
       "3       2.397895   10.959558     0.693147        0.000000   \n",
       "4       2.397895   10.819878     0.000000        1.609438   \n",
       "...          ...         ...          ...             ...   \n",
       "9995    1.791759   11.101206     0.000000        0.693147   \n",
       "9996    0.693147   10.165890     0.000000        0.693147   \n",
       "9997    2.197225   10.775450     0.000000        0.000000   \n",
       "9998    1.945910   11.156265     1.098612        1.098612   \n",
       "9999    0.693147   11.164233     0.000000        0.693147   \n",
       "\n",
       "      mths_since_last_delinq  mths_since_last_record  open_acc   pub_rec  \\\n",
       "0                   0.000000                4.787492  2.772589  0.000000   \n",
       "1                   0.000000                4.787492  1.609438  0.000000   \n",
       "2                   0.000000                4.787492  1.609438  0.000000   \n",
       "3                   2.833213                4.787492  1.945910  0.000000   \n",
       "4                   0.000000                4.787492  2.197225  0.000000   \n",
       "...                      ...                     ...       ...       ...   \n",
       "9995                0.000000                4.787492  2.197225  0.000000   \n",
       "9996                4.382027                4.787492  2.197225  0.000000   \n",
       "9997                0.000000                4.718499  2.302585  0.693147   \n",
       "9998                2.833213                4.787492  2.302585  0.000000   \n",
       "9999                3.988984                4.787492  2.772589  0.000000   \n",
       "\n",
       "      revol_bal  total_acc  mths_since_last_major_derog  cr_line_yrs  \\\n",
       "0      9.399969   3.806662                     0.693147     7.597396   \n",
       "1      9.221775   1.791759                     1.098612     7.603898   \n",
       "2      4.406719   2.197225                     1.386294     7.586296   \n",
       "3      9.213436   3.178054                     1.098612     7.592366   \n",
       "4      9.281823   3.091042                     1.386294     7.600902   \n",
       "...         ...        ...                          ...          ...   \n",
       "9995   8.204398   2.397895                     1.098612     7.601902   \n",
       "9996   8.811354   2.564949                     1.098612     7.601402   \n",
       "9997   9.336709   2.890372                     1.386294     7.595890   \n",
       "9998   9.750220   3.332205                     1.098612     7.600902   \n",
       "9999   7.742836   3.555348                     1.098612     7.601402   \n",
       "\n",
       "      cr_line_mths  \n",
       "0         2.564949  \n",
       "1         2.484907  \n",
       "2         1.945910  \n",
       "3         2.302585  \n",
       "4         2.397895  \n",
       "...            ...  \n",
       "9995      2.302585  \n",
       "9996      1.791759  \n",
       "9997      2.564949  \n",
       "9998      1.386294  \n",
       "9999      2.302585  \n",
       "\n",
       "[10000 rows x 13 columns]"
      ]
     },
     "execution_count": 87,
     "metadata": {},
     "output_type": "execute_result"
    }
   ],
   "source": [
    "def log_trans(x):\n",
    "    return np.log(x+1)\n",
    "\n",
    "temp_cols = num_cols.copy()\n",
    "temp_cols.remove('debt_to_income')\n",
    "temp_cols.remove('revol_util')\n",
    "\n",
    "df[temp_cols] = df[temp_cols].apply(log_trans)\n",
    "df[temp_cols]"
   ]
  },
  {
   "cell_type": "code",
   "execution_count": 88,
   "metadata": {},
   "outputs": [],
   "source": [
    "# Create a feature engineered profile report\n",
    "import pandas_profiling\n",
    "profile_file = './ls_profile_report_fe_not_cat.html'\n",
    "\n",
    "override = False\n",
    "if not os.path.exists(profile_file) or override:    \n",
    "    profile = df.profile_report(title='Feature Engineered Lending Club Data Profile Report')\n",
    "    profile.to_file(output_file=profile_file)"
   ]
  },
  {
   "cell_type": "markdown",
   "metadata": {},
   "source": [
    "#### Label Encode and One-Hot Encode Categorical Variables\n",
    "- NOTE: I may need to reduce the dimensions after the one-hot encoding, but we will see how this goes first"
   ]
  },
  {
   "cell_type": "code",
   "execution_count": 89,
   "metadata": {},
   "outputs": [
    {
     "name": "stdout",
     "output_type": "stream",
     "text": [
      "pymnt_plan\n",
      "initial_list_status\n",
      "2 columns were label encoded.\n"
     ]
    }
   ],
   "source": [
    "from sklearn import preprocessing\n",
    "\n",
    "count = 0\n",
    "\n",
    "for col in df:\n",
    "    if df[col].dtype == 'object':\n",
    "        if len(list(df[col].unique())) <= 2:     \n",
    "            le = preprocessing.LabelEncoder()\n",
    "            df[col] = le.fit_transform(df[col])\n",
    "            count += 1\n",
    "            print (col)\n",
    "            \n",
    "print('%d columns were label encoded.' % count)"
   ]
  },
  {
   "cell_type": "code",
   "execution_count": 90,
   "metadata": {},
   "outputs": [
    {
     "name": "stdout",
     "output_type": "stream",
     "text": [
      "(10000, 108)\n"
     ]
    }
   ],
   "source": [
    "df = pd.get_dummies(df)\n",
    "print(df.shape)"
   ]
  },
  {
   "cell_type": "code",
   "execution_count": 91,
   "metadata": {},
   "outputs": [],
   "source": [
    "# Save out the data with basic feature engineering\n",
    "#df.to_pickle(\"./data/non_standard_explore_data.pkl\")"
   ]
  },
  {
   "cell_type": "markdown",
   "metadata": {},
   "source": [
    "## Split out the data"
   ]
  },
  {
   "cell_type": "code",
   "execution_count": 92,
   "metadata": {},
   "outputs": [
    {
     "name": "stdout",
     "output_type": "stream",
     "text": [
      "Training Distribution of is_bad:\n",
      "0.1285\n",
      "\n",
      "Test Distribution of is_bad:\n",
      "0.1335\n"
     ]
    }
   ],
   "source": [
    "from sklearn.model_selection import train_test_split\n",
    "seed = 20\n",
    "\n",
    "# Try just using a train/test split at first without sorting the values by time (I don't know how truly time-based this model will be)\n",
    "X_train, X_test, y_train, y_test = train_test_split(df.drop('is_bad',axis=1), df['is_bad'], test_size=0.20, random_state=seed)\n",
    "\n",
    "print(\"Training Distribution of is_bad:\")\n",
    "print(len(y_train[y_train==1])/len(y_train))\n",
    "\n",
    "print()\n",
    "print(\"Test Distribution of is_bad:\")\n",
    "print(len(y_test[y_test==1])/len(y_test))"
   ]
  },
  {
   "cell_type": "markdown",
   "metadata": {},
   "source": [
    "## Standard scale the numerical data"
   ]
  },
  {
   "cell_type": "code",
   "execution_count": 93,
   "metadata": {},
   "outputs": [],
   "source": [
    "from sklearn.preprocessing import StandardScaler\n",
    "sc = StandardScaler()\n",
    "X_train = sc.fit_transform(X_train)\n",
    "X_test = sc.transform(X_test)"
   ]
  },
  {
   "cell_type": "code",
   "execution_count": 94,
   "metadata": {},
   "outputs": [
    {
     "name": "stdout",
     "output_type": "stream",
     "text": [
      "Most Positive Correlations with \"is_bad\"\n",
      "--------------------\n",
      "purpose_cat_major purchase small business        0.057989\n",
      "purpose_cat_educational small business           0.057989\n",
      "purpose_cat_small business                       0.079963\n",
      "purpose_cat_home improvement small business      0.086037\n",
      "revol_util                                       0.087797\n",
      "purpose_cat_small business small business        0.089867\n",
      "purpose_cat_credit card small business           0.106990\n",
      "purpose_cat_other small business                 0.110097\n",
      "purpose_cat_debt consolidation small business    0.263194\n",
      "is_bad                                           1.000000\n",
      "Name: is_bad, dtype: float64\n",
      "\n",
      "Most Negative Correlations with \"is_bad\"\n",
      "--------------------\n",
      "annual_inc                         -0.069336\n",
      "total_acc                          -0.067703\n",
      "purpose_cat_credit card            -0.055271\n",
      "verification_status_not verified   -0.050158\n",
      "emp_length                         -0.036741\n",
      "cr_line_mths                       -0.036504\n",
      "purpose_cat_wedding                -0.035054\n",
      "purpose_cat_debt consolidation     -0.032835\n",
      "home_ownership_mortgage            -0.031544\n",
      "purpose_cat_car                    -0.026283\n",
      "Name: is_bad, dtype: float64\n"
     ]
    }
   ],
   "source": [
    "# See how much this boosts the correlations\n",
    "corr = df.corr()['is_bad'].sort_values()\n",
    "\n",
    "# Display correlations\n",
    "print('Most Positive Correlations with \"is_bad\"')\n",
    "print(20*\"-\")\n",
    "print(corr.tail(10))\n",
    "print()\n",
    "print('Most Negative Correlations with \"is_bad\"')\n",
    "print(20*\"-\")\n",
    "print(corr.head(10))"
   ]
  },
  {
   "cell_type": "code",
   "execution_count": 95,
   "metadata": {},
   "outputs": [],
   "source": [
    "num_cols = list(df._get_numeric_data().columns)\n",
    "cat_cols = list(set(df.columns) - set(df._get_numeric_data().columns))\n",
    "target = ['is_bad']\n",
    "num_cols.remove('is_bad')"
   ]
  },
  {
   "cell_type": "markdown",
   "metadata": {},
   "source": [
    "## Upsample the training data"
   ]
  },
  {
   "cell_type": "code",
   "execution_count": 96,
   "metadata": {},
   "outputs": [],
   "source": [
    "# You need to try and balance the classes within the training set\n",
    "from imblearn.over_sampling import SMOTE\n",
    "sm = SMOTE(random_state=seed)\n",
    "x_train_r, y_train_r = sm.fit_resample(X_train, y_train)"
   ]
  },
  {
   "cell_type": "markdown",
   "metadata": {},
   "source": [
    "## Try 4 initial models: LR Classifier, RF Classifier, LightGBM Classifier, SVM Classifier"
   ]
  },
  {
   "cell_type": "code",
   "execution_count": 97,
   "metadata": {},
   "outputs": [],
   "source": [
    "from sklearn.ensemble import RandomForestClassifier\n",
    "from sklearn.linear_model import LogisticRegression\n",
    "from sklearn.model_selection import cross_val_score, cross_val_predict\n",
    "from sklearn.metrics import accuracy_score, classification_report, confusion_matrix, roc_auc_score, auc, roc_curve\n",
    "from sklearn.model_selection import train_test_split, GridSearchCV"
   ]
  },
  {
   "cell_type": "code",
   "execution_count": 98,
   "metadata": {},
   "outputs": [],
   "source": [
    "def plot_roc(y_test, y_pred, Title=''):\n",
    "    # Compute ROC curve and ROC area for each class\n",
    "    #fpr = dict()\n",
    "    #tpr = dict()\n",
    "    #roc_auc = dict()\n",
    "    \n",
    "    fpr, tpr, _ = roc_curve(y_test, y_pred)\n",
    "    roc_auc = auc(fpr, tpr)\n",
    "\n",
    "    # Compute micro-average ROC curve and ROC area\n",
    "    #fpr[\"micro\"], tpr[\"micro\"], _ = roc_curve(y_test.ravel(), y_pred.ravel())\n",
    "    #roc_auc[\"micro\"] = auc(fpr[\"micro\"], tpr[\"micro\"])\n",
    "    \n",
    "    plt.figure()\n",
    "    lw = 2\n",
    "    plt.plot(fpr, tpr, color='darkorange', lw=lw, label='ROC curve (area = %0.2f)' % roc_auc)\n",
    "    plt.plot([0, 1], [0, 1], color='navy', lw=lw, linestyle='--')\n",
    "    plt.xlim([0.0, 1.0])\n",
    "    plt.ylim([0.0, 1.05])\n",
    "    plt.xlabel('False Positive Rate')\n",
    "    plt.ylabel('True Positive Rate')\n",
    "    plt.title('Receiver operating characteristic example {0}'.format(Title))\n",
    "    plt.legend(loc=\"lower right\")\n",
    "    plt.show()"
   ]
  },
  {
   "cell_type": "code",
   "execution_count": 99,
   "metadata": {},
   "outputs": [
    {
     "name": "stdout",
     "output_type": "stream",
     "text": [
      "Fitting 10 folds for each of 10 candidates, totalling 100 fits\n"
     ]
    },
    {
     "name": "stderr",
     "output_type": "stream",
     "text": [
      "[Parallel(n_jobs=-1)]: Using backend LokyBackend with 4 concurrent workers.\n",
      "[Parallel(n_jobs=-1)]: Done   5 tasks      | elapsed:    3.3s\n",
      "[Parallel(n_jobs=-1)]: Done  10 tasks      | elapsed:    4.0s\n",
      "[Parallel(n_jobs=-1)]: Done  17 tasks      | elapsed:    5.2s\n",
      "[Parallel(n_jobs=-1)]: Done  24 tasks      | elapsed:    6.8s\n",
      "[Parallel(n_jobs=-1)]: Done  33 tasks      | elapsed:    9.1s\n",
      "[Parallel(n_jobs=-1)]: Done  42 tasks      | elapsed:   10.6s\n",
      "[Parallel(n_jobs=-1)]: Done  53 tasks      | elapsed:   12.1s\n",
      "[Parallel(n_jobs=-1)]: Done  64 tasks      | elapsed:   13.3s\n",
      "[Parallel(n_jobs=-1)]: Done  77 tasks      | elapsed:   14.7s\n",
      "[Parallel(n_jobs=-1)]: Done  90 tasks      | elapsed:   16.0s\n",
      "[Parallel(n_jobs=-1)]: Done 100 out of 100 | elapsed:   16.8s finished\n"
     ]
    },
    {
     "data": {
      "text/plain": [
       "GridSearchCV(cv=10, estimator=LogisticRegression(max_iter=10000), n_jobs=-1,\n",
       "             param_grid={'C': array([1.00000000e+00, 2.78255940e+00, 7.74263683e+00, 2.15443469e+01,\n",
       "       5.99484250e+01, 1.66810054e+02, 4.64158883e+02, 1.29154967e+03,\n",
       "       3.59381366e+03, 1.00000000e+04]),\n",
       "                         'penalty': ['l2']},\n",
       "             scoring='roc_auc', verbose=10)"
      ]
     },
     "execution_count": 99,
     "metadata": {},
     "output_type": "execute_result"
    }
   ],
   "source": [
    "# Start with simple logistic regression classifier for baseline attempt\n",
    "penalty = ['l2']\n",
    "C = np.logspace(0, 4, 10)\n",
    "#C = np.linspace(0.001, 1, 10)\n",
    "param_grid = dict(C=C, penalty=penalty)\n",
    "\n",
    "clf_lr = LogisticRegression(solver='lbfgs', max_iter=10000)\n",
    "lr_grid = GridSearchCV(clf_lr, param_grid, cv=10, scoring='roc_auc', verbose=10, n_jobs=-1)\n",
    "lr_grid.fit(x_train_r, y_train_r)\n",
    "#clf_lr = LogisticRegression(C = 0.001, random_state=seed)\n",
    "#clf_lr.fit(x_train_r, y_train_r)"
   ]
  },
  {
   "cell_type": "code",
   "execution_count": 100,
   "metadata": {},
   "outputs": [
    {
     "data": {
      "text/plain": [
       "LogisticRegression(C=464.15888336127773, max_iter=10000)"
      ]
     },
     "execution_count": 100,
     "metadata": {},
     "output_type": "execute_result"
    }
   ],
   "source": [
    "lr_grid.best_estimator_"
   ]
  },
  {
   "cell_type": "code",
   "execution_count": 101,
   "metadata": {},
   "outputs": [
    {
     "name": "stdout",
     "output_type": "stream",
     "text": [
      "Test AUC score: 0.6973985922098244\n",
      "              precision    recall  f1-score   support\n",
      "\n",
      "           0       0.92      0.68      0.78      1733\n",
      "           1       0.22      0.60      0.32       267\n",
      "\n",
      "    accuracy                           0.67      2000\n",
      "   macro avg       0.57      0.64      0.55      2000\n",
      "weighted avg       0.82      0.67      0.72      2000\n",
      "\n",
      "Min accuracy to beat for just random guessing in the TEST set:\n",
      "0.8665\n"
     ]
    }
   ],
   "source": [
    "ypred_lr = lr_grid.best_estimator_.predict_proba(X_test)\n",
    "score = roc_auc_score(y_test, ypred_lr[:,1])\n",
    "\n",
    "print(f\"Test AUC score: {score}\")\n",
    "print(classification_report(y_test, np.around(ypred_lr[:,1], 0)))\n",
    "\n",
    "print(\"Min accuracy to beat for just random guessing in the TEST set:\")\n",
    "print(len(y_test[y_test == 0])/len(y_test))"
   ]
  },
  {
   "cell_type": "code",
   "execution_count": 102,
   "metadata": {},
   "outputs": [
    {
     "data": {
      "image/png": "[encoded data removed]",
      "text/plain": [
       "<Figure size 576x396 with 1 Axes>"
      ]
     },
     "metadata": {},
     "output_type": "display_data"
    }
   ],
   "source": [
    "plot_roc(y_test, ypred[:,1], 'LR')"
   ]
  },
  {
   "cell_type": "code",
   "execution_count": 103,
   "metadata": {},
   "outputs": [
    {
     "name": "stdout",
     "output_type": "stream",
     "text": [
      "Fitting 10 folds for each of 24 candidates, totalling 240 fits\n"
     ]
    },
    {
     "name": "stderr",
     "output_type": "stream",
     "text": [
      "[Parallel(n_jobs=-1)]: Using backend LokyBackend with 4 concurrent workers.\n",
      "[Parallel(n_jobs=-1)]: Done   5 tasks      | elapsed:    3.5s\n",
      "[Parallel(n_jobs=-1)]: Done  10 tasks      | elapsed:    5.3s\n",
      "[Parallel(n_jobs=-1)]: Done  17 tasks      | elapsed:   12.1s\n",
      "[Parallel(n_jobs=-1)]: Done  24 tasks      | elapsed:   15.7s\n",
      "[Parallel(n_jobs=-1)]: Done  33 tasks      | elapsed:   20.8s\n",
      "[Parallel(n_jobs=-1)]: Done  42 tasks      | elapsed:   27.6s\n",
      "[Parallel(n_jobs=-1)]: Done  53 tasks      | elapsed:   34.3s\n",
      "[Parallel(n_jobs=-1)]: Done  64 tasks      | elapsed:   41.3s\n",
      "[Parallel(n_jobs=-1)]: Done  77 tasks      | elapsed:   50.3s\n",
      "[Parallel(n_jobs=-1)]: Done  90 tasks      | elapsed:   58.2s\n",
      "[Parallel(n_jobs=-1)]: Done 105 tasks      | elapsed:  1.3min\n",
      "[Parallel(n_jobs=-1)]: Done 120 tasks      | elapsed:  1.5min\n",
      "[Parallel(n_jobs=-1)]: Done 137 tasks      | elapsed:  1.8min\n",
      "[Parallel(n_jobs=-1)]: Done 154 tasks      | elapsed:  2.0min\n",
      "[Parallel(n_jobs=-1)]: Done 173 tasks      | elapsed:  2.3min\n",
      "[Parallel(n_jobs=-1)]: Done 192 tasks      | elapsed:  2.6min\n",
      "[Parallel(n_jobs=-1)]: Done 213 tasks      | elapsed:  3.0min\n",
      "[Parallel(n_jobs=-1)]: Done 240 out of 240 | elapsed:  3.5min finished\n"
     ]
    },
    {
     "data": {
      "text/plain": [
       "GridSearchCV(cv=10, estimator=RandomForestClassifier(), n_jobs=-1,\n",
       "             param_grid={'max_depth': [5, 10, 15], 'max_features': ['sqrt'],\n",
       "                         'min_samples_leaf': [10, 20],\n",
       "                         'min_samples_split': [2, 5],\n",
       "                         'n_estimators': [100, 200]},\n",
       "             scoring='roc_auc', verbose=10)"
      ]
     },
     "execution_count": 103,
     "metadata": {},
     "output_type": "execute_result"
    }
   ],
   "source": [
    "# Try RF Classifier\n",
    "param_grid = {\n",
    "    'max_depth': [5, 10, 15],\n",
    "    'max_features': ['sqrt'],\n",
    "    'min_samples_leaf': [10, 20],\n",
    "    'min_samples_split': [2, 5],\n",
    "    'n_estimators': [100, 200]\n",
    "}\n",
    "\n",
    "clf_rf = RandomForestClassifier()\n",
    "rf_grid = GridSearchCV(clf_rf, param_grid, cv=10, scoring='roc_auc', verbose=10, n_jobs=-1)\n",
    "rf_grid.fit(x_train_r, y_train_r)\n",
    "\n",
    "#clf_rf = RandomForestClassifier(n_estimators=200, \n",
    "#                                random_state=seed,\n",
    "#                                min_samples_split=2,\n",
    "#                               min_samples_leaf=50,\n",
    "#                                oob_score=True)\n",
    "#clf_rf.fit(x_train_r, y_train_r)"
   ]
  },
  {
   "cell_type": "code",
   "execution_count": 104,
   "metadata": {},
   "outputs": [
    {
     "data": {
      "text/plain": [
       "RandomForestClassifier(max_depth=15, max_features='sqrt', min_samples_leaf=10,\n",
       "                       n_estimators=200)"
      ]
     },
     "execution_count": 104,
     "metadata": {},
     "output_type": "execute_result"
    }
   ],
   "source": [
    "rf_grid.best_estimator_"
   ]
  },
  {
   "cell_type": "code",
   "execution_count": 105,
   "metadata": {},
   "outputs": [
    {
     "name": "stdout",
     "output_type": "stream",
     "text": [
      "Test AUC score: 0.6673128583500284\n",
      "              precision    recall  f1-score   support\n",
      "\n",
      "           0       0.88      0.99      0.93      1733\n",
      "           1       0.76      0.11      0.19       267\n",
      "\n",
      "    accuracy                           0.88      2000\n",
      "   macro avg       0.82      0.55      0.56      2000\n",
      "weighted avg       0.86      0.88      0.83      2000\n",
      "\n",
      "Min accuracy to beat for just random guessing in the TEST set:\n",
      "0.8665\n"
     ]
    }
   ],
   "source": [
    "ypred_rf = rf_grid.best_estimator_.predict_proba(X_test)\n",
    "score = roc_auc_score(y_test, ypred_rf[:,1])\n",
    "\n",
    "print(f\"Test AUC score: {score}\")\n",
    "print(classification_report(y_test, np.around(ypred_rf[:,1],0)))\n",
    "\n",
    "print(\"Min accuracy to beat for just random guessing in the TEST set:\")\n",
    "print(len(y_test[y_test == 0])/len(y_test))"
   ]
  },
  {
   "cell_type": "code",
   "execution_count": 106,
   "metadata": {},
   "outputs": [
    {
     "data": {
      "image/png": "[encoded data removed]",
      "text/plain": [
       "<Figure size 576x396 with 1 Axes>"
      ]
     },
     "metadata": {},
     "output_type": "display_data"
    }
   ],
   "source": [
    "plot_roc(y_test, ypred[:,1], 'RF')"
   ]
  },
  {
   "cell_type": "code",
   "execution_count": 107,
   "metadata": {},
   "outputs": [
    {
     "name": "stdout",
     "output_type": "stream",
     "text": [
      "[1]\tvalid_0's auc: 0.616599\n",
      "Training until validation scores don't improve for 20 rounds\n",
      "[2]\tvalid_0's auc: 0.645888\n",
      "[3]\tvalid_0's auc: 0.663375\n",
      "[4]\tvalid_0's auc: 0.665974\n",
      "[5]\tvalid_0's auc: 0.65759\n",
      "[6]\tvalid_0's auc: 0.66391\n",
      "[7]\tvalid_0's auc: 0.668512\n",
      "[8]\tvalid_0's auc: 0.669414\n",
      "[9]\tvalid_0's auc: 0.665544\n",
      "[10]\tvalid_0's auc: 0.669021\n",
      "[11]\tvalid_0's auc: 0.670932\n",
      "[12]\tvalid_0's auc: 0.670525\n",
      "[13]\tvalid_0's auc: 0.672261\n",
      "[14]\tvalid_0's auc: 0.679561\n",
      "[15]\tvalid_0's auc: 0.680333\n",
      "[16]\tvalid_0's auc: 0.682052\n",
      "[17]\tvalid_0's auc: 0.683978\n",
      "[18]\tvalid_0's auc: 0.68675\n",
      "[19]\tvalid_0's auc: 0.686232\n",
      "[20]\tvalid_0's auc: 0.685851\n",
      "[21]\tvalid_0's auc: 0.683985\n",
      "[22]\tvalid_0's auc: 0.691728\n",
      "[23]\tvalid_0's auc: 0.691306\n",
      "[24]\tvalid_0's auc: 0.695417\n",
      "[25]\tvalid_0's auc: 0.698289\n",
      "[26]\tvalid_0's auc: 0.698663\n",
      "[27]\tvalid_0's auc: 0.703497\n",
      "[28]\tvalid_0's auc: 0.704178\n",
      "[29]\tvalid_0's auc: 0.703538\n",
      "[30]\tvalid_0's auc: 0.707303\n",
      "[31]\tvalid_0's auc: 0.709709\n",
      "[32]\tvalid_0's auc: 0.712025\n",
      "[33]\tvalid_0's auc: 0.712421\n",
      "[34]\tvalid_0's auc: 0.711811\n",
      "[35]\tvalid_0's auc: 0.712183\n",
      "[36]\tvalid_0's auc: 0.713919\n",
      "[37]\tvalid_0's auc: 0.713527\n",
      "[38]\tvalid_0's auc: 0.713175\n",
      "[39]\tvalid_0's auc: 0.713731\n",
      "[40]\tvalid_0's auc: 0.711518\n",
      "[41]\tvalid_0's auc: 0.712203\n",
      "[42]\tvalid_0's auc: 0.712151\n",
      "[43]\tvalid_0's auc: 0.712546\n",
      "[44]\tvalid_0's auc: 0.712434\n",
      "[45]\tvalid_0's auc: 0.711764\n",
      "[46]\tvalid_0's auc: 0.711814\n",
      "[47]\tvalid_0's auc: 0.713795\n",
      "[48]\tvalid_0's auc: 0.714115\n",
      "[49]\tvalid_0's auc: 0.717219\n",
      "[50]\tvalid_0's auc: 0.714733\n",
      "[51]\tvalid_0's auc: 0.714671\n",
      "[52]\tvalid_0's auc: 0.716711\n",
      "[53]\tvalid_0's auc: 0.717085\n",
      "[54]\tvalid_0's auc: 0.716501\n",
      "[55]\tvalid_0's auc: 0.717521\n",
      "[56]\tvalid_0's auc: 0.720002\n",
      "[57]\tvalid_0's auc: 0.720597\n",
      "[58]\tvalid_0's auc: 0.720728\n",
      "[59]\tvalid_0's auc: 0.720071\n",
      "[60]\tvalid_0's auc: 0.721876\n",
      "[61]\tvalid_0's auc: 0.720344\n",
      "[62]\tvalid_0's auc: 0.72027\n",
      "[63]\tvalid_0's auc: 0.719821\n",
      "[64]\tvalid_0's auc: 0.719691\n",
      "[65]\tvalid_0's auc: 0.719326\n",
      "[66]\tvalid_0's auc: 0.720236\n",
      "[67]\tvalid_0's auc: 0.718708\n",
      "[68]\tvalid_0's auc: 0.718509\n",
      "[69]\tvalid_0's auc: 0.719229\n",
      "[70]\tvalid_0's auc: 0.719162\n",
      "[71]\tvalid_0's auc: 0.719548\n",
      "[72]\tvalid_0's auc: 0.720221\n",
      "[73]\tvalid_0's auc: 0.719929\n",
      "[74]\tvalid_0's auc: 0.71978\n",
      "[75]\tvalid_0's auc: 0.721174\n",
      "[76]\tvalid_0's auc: 0.721273\n",
      "[77]\tvalid_0's auc: 0.721254\n",
      "[78]\tvalid_0's auc: 0.721483\n",
      "[79]\tvalid_0's auc: 0.722226\n",
      "[80]\tvalid_0's auc: 0.722687\n",
      "[81]\tvalid_0's auc: 0.722939\n",
      "[82]\tvalid_0's auc: 0.724333\n",
      "[83]\tvalid_0's auc: 0.725107\n",
      "[84]\tvalid_0's auc: 0.724156\n",
      "[85]\tvalid_0's auc: 0.723806\n",
      "[86]\tvalid_0's auc: 0.724558\n",
      "[87]\tvalid_0's auc: 0.724521\n",
      "[88]\tvalid_0's auc: 0.724964\n",
      "[89]\tvalid_0's auc: 0.724156\n",
      "[90]\tvalid_0's auc: 0.724578\n",
      "[91]\tvalid_0's auc: 0.72662\n",
      "[92]\tvalid_0's auc: 0.72665\n",
      "[93]\tvalid_0's auc: 0.725963\n",
      "[94]\tvalid_0's auc: 0.724967\n",
      "[95]\tvalid_0's auc: 0.726577\n",
      "[96]\tvalid_0's auc: 0.724975\n",
      "[97]\tvalid_0's auc: 0.724625\n",
      "[98]\tvalid_0's auc: 0.724059\n",
      "[99]\tvalid_0's auc: 0.723339\n",
      "[100]\tvalid_0's auc: 0.723892\n",
      "[101]\tvalid_0's auc: 0.723953\n",
      "[102]\tvalid_0's auc: 0.723534\n",
      "[103]\tvalid_0's auc: 0.7223\n",
      "[104]\tvalid_0's auc: 0.722444\n",
      "[105]\tvalid_0's auc: 0.721848\n",
      "[106]\tvalid_0's auc: 0.721483\n",
      "[107]\tvalid_0's auc: 0.721435\n",
      "[108]\tvalid_0's auc: 0.720562\n",
      "[109]\tvalid_0's auc: 0.72059\n",
      "[110]\tvalid_0's auc: 0.720212\n",
      "[111]\tvalid_0's auc: 0.721645\n",
      "[112]\tvalid_0's auc: 0.72155\n",
      "Early stopping, best iteration is:\n",
      "[92]\tvalid_0's auc: 0.72665\n"
     ]
    }
   ],
   "source": [
    "from lightgbm import LGBMClassifier\n",
    "import lightgbm as lgb\n",
    "\n",
    "dtrain = lgb.Dataset(x_train_r, label=y_train_r)\n",
    "dvalid = lgb.Dataset(X_test, label=y_test)\n",
    "\n",
    "#param_grid = {\n",
    "#    'max_depth': [5, 10, 15],\n",
    "#    'lambda_l1' : [0, 0.5, 1],\n",
    "#    'objective' : ['binary'],\n",
    "#   'metric' : ['auc'],\n",
    "#    'num_leaves': [32, 64],\n",
    "#   'min_samples_split': [2, 5],\n",
    "#    'n_estimators': [100, 200],\n",
    "#    'learning_rate' : [0.1]\n",
    "#}\n",
    "\n",
    "#clf_lgbm = LGBMClassifier()\n",
    "#lgbm_grid = GridSearchCV(clf_lgbm, param_grid, cv=5, scoring='roc_auc', verbose=10, n_jobs=4)\n",
    "#gbm_grid.fit(x_train_r, y_train_r)\n",
    "\n",
    "param = {'num_leaves': 32, 'objective': 'binary'}\n",
    "#param = {'objective': 'binary'}\n",
    "param['metric'] = 'auc'\n",
    "num_round = 1000\n",
    "lgbm_bst = lgb.train(param, dtrain, num_round, valid_sets=[dvalid], early_stopping_rounds=20, verbose_eval=True)"
   ]
  },
  {
   "cell_type": "code",
   "execution_count": 108,
   "metadata": {},
   "outputs": [],
   "source": [
    "#lgbm_grid.best_estimator_"
   ]
  },
  {
   "cell_type": "code",
   "execution_count": 109,
   "metadata": {},
   "outputs": [
    {
     "name": "stdout",
     "output_type": "stream",
     "text": [
      "Test AUC score: 0.7266501120569859\n",
      "              precision    recall  f1-score   support\n",
      "\n",
      "           0       0.89      1.00      0.94      1733\n",
      "           1       0.96      0.19      0.31       267\n",
      "\n",
      "    accuracy                           0.89      2000\n",
      "   macro avg       0.93      0.59      0.63      2000\n",
      "weighted avg       0.90      0.89      0.86      2000\n",
      "\n",
      "Min accuracy to beat for just random guessing in the TEST set:\n",
      "0.8665\n"
     ]
    }
   ],
   "source": [
    "ypred_lgbm = lgbm_bst.predict(X_test)\n",
    "#ypred_lgbm = lgbm_grid.best_estimator_.predict_proba(X_test)\n",
    "#ypred_thresh = [1 if x >= 0.5 else 0 for x in ypred]\n",
    "\n",
    "score = roc_auc_score(y_test, ypred_lgbm)\n",
    "\n",
    "print(f\"Test AUC score: {score}\")\n",
    "print(classification_report(y_test, np.around(ypred_lgbm, 0)))\n",
    "\n",
    "print(\"Min accuracy to beat for just random guessing in the TEST set:\")\n",
    "print(len(y_test[y_test == 0])/len(y_test))"
   ]
  },
  {
   "cell_type": "code",
   "execution_count": 110,
   "metadata": {},
   "outputs": [
    {
     "data": {
      "image/png": "[encoded data removed]",
      "text/plain": [
       "<Figure size 576x396 with 1 Axes>"
      ]
     },
     "metadata": {},
     "output_type": "display_data"
    }
   ],
   "source": [
    "plot_roc(y_test, ypred_lgbm, 'LGBM')"
   ]
  },
  {
   "cell_type": "markdown",
   "metadata": {},
   "source": [
    "### Try an ensemble of the models"
   ]
  },
  {
   "cell_type": "code",
   "execution_count": 118,
   "metadata": {},
   "outputs": [],
   "source": [
    "w1 = 0.4\n",
    "w2 = 0.6\n",
    "ypred_ens = (w1*lr_grid.best_estimator_.predict_proba(X_test)[:,1] + w2*lgbm_bst.predict(X_test))"
   ]
  },
  {
   "cell_type": "code",
   "execution_count": 119,
   "metadata": {},
   "outputs": [
    {
     "name": "stdout",
     "output_type": "stream",
     "text": [
      "Test AUC score: 0.7206787822204356\n",
      "              precision    recall  f1-score   support\n",
      "\n",
      "           0       0.89      0.98      0.93      1733\n",
      "           1       0.62      0.21      0.31       267\n",
      "\n",
      "    accuracy                           0.88      2000\n",
      "   macro avg       0.75      0.59      0.62      2000\n",
      "weighted avg       0.85      0.88      0.85      2000\n",
      "\n",
      "Min accuracy to beat for just random guessing in the TEST set:\n",
      "0.8665\n"
     ]
    }
   ],
   "source": [
    "score = roc_auc_score(y_test, ypred_ens)\n",
    "\n",
    "print(f\"Test AUC score: {score}\")\n",
    "print(classification_report(y_test, np.around(ypred_ens, 0)))\n",
    "\n",
    "print(\"Min accuracy to beat for just random guessing in the TEST set:\")\n",
    "print(len(y_test[y_test == 0])/len(y_test))"
   ]
  },
  {
   "cell_type": "markdown",
   "metadata": {},
   "source": [
    "### Plot all on the same plot"
   ]
  },
  {
   "cell_type": "code",
   "execution_count": 123,
   "metadata": {},
   "outputs": [
    {
     "data": {
      "image/png": "[encoded data removed]",
      "text/plain": [
       "<Figure size 576x396 with 1 Axes>"
      ]
     },
     "metadata": {},
     "output_type": "display_data"
    }
   ],
   "source": [
    "def plot_multi_roc(y_test, y_pred=[], Legend=[], Title=''):\n",
    "    # Compute ROC curve and ROC area for each class\n",
    "    fpr = dict()\n",
    "    tpr = dict()\n",
    "    roc_auc = dict()\n",
    "    \n",
    "    assert y_pred, \"Warning, you must provide a list of predictions\"\n",
    "    plt.figure()\n",
    "    lw = 2\n",
    "    \n",
    "    for i, results in enumerate(y_pred):\n",
    "        fpr[i], tpr[i], _ = roc_curve(y_test, results)\n",
    "        roc_auc[i] = auc(fpr[i], tpr[i])\n",
    "\n",
    "        plt.plot(fpr[i], tpr[i], lw=lw, label='%s ROC curve (area = %0.2f)' % (Legend[i], roc_auc[i]))\n",
    "        \n",
    "    plt.plot([0, 1], [0, 1], color='navy', lw=lw, linestyle='--')    \n",
    "    plt.xlim([0.0, 1.0])\n",
    "    plt.ylim([0.0, 1.05])\n",
    "    plt.xlabel('False Positive Rate')\n",
    "    plt.ylabel('True Positive Rate')\n",
    "    plt.title('Receiver operating characteristic example {0}'.format(Title))\n",
    "    plt.legend(loc=\"lower right\")\n",
    "    plt.show()\n",
    "    \n",
    "\n",
    "y_pred_tot = [ypred_lr[:,1], ypred_rf[:,1], ypred_lgbm]\n",
    "legend = ['LR', 'RF', 'LGBM']\n",
    "plot_multi_roc(y_test, y_pred_tot, legend)"
   ]
  },
  {
   "cell_type": "markdown",
   "metadata": {},
   "source": [
    "### Gradient Boosted Methods + Kfold Cross-validation"
   ]
  },
  {
   "cell_type": "code",
   "execution_count": null,
   "metadata": {},
   "outputs": [],
   "source": [
    "from sklearn.model_selection import cross_val_score, KFold\n",
    "from sklearn.model_selection import RepeatedStratifiedKFold\n",
    "from lightgbm import LGBMClassifier\n",
    "\n",
    "kfold = KFold(n_splits=10)\n",
    "\n",
    "clf_lgb = LGBMClassifier()\n",
    "cv = RepeatedStratifiedKFold(n_splits=10, n_repeats=3, random_state=seed)\n",
    "n_scores = cross_val_score(clf_lgb, x_train_r, y_train_r, scoring='accuracy', cv=cv, n_jobs=-1, error_score='raise')\n",
    "#clf_lgb.fit(x_train_r, y_train_r)"
   ]
  },
  {
   "cell_type": "code",
   "execution_count": null,
   "metadata": {},
   "outputs": [],
   "source": [
    "for train_indices, test_indices in kfold.split(x_train_r):\n",
    "    print('Train: %s | test: %s' % (train_indices, test_indices))"
   ]
  },
  {
   "cell_type": "code",
   "execution_count": null,
   "metadata": {},
   "outputs": [],
   "source": [
    "n_scores"
   ]
  },
  {
   "cell_type": "code",
   "execution_count": null,
   "metadata": {},
   "outputs": [],
   "source": [
    "#ypred = clf_lgb.predict(validation[feature_cols])\n",
    "#score = metrics.roc_auc_score(validation['is_bad'], ypred)\n",
    "\n",
    "ypred = clf_lgb.predict(X_test)\n",
    "score = metrics.roc_auc_score(y_test, ypred)\n",
    "\n",
    "print(f\"Test AUC score: {score}\")\n",
    "print(metrics.classification_report(y_test, ypred))\n",
    "\n",
    "print(\"Min accuracy to beat for just random guessing in the TEST set:\")\n",
    "print(len(validation[validation.is_bad == 0])/len(validation))"
   ]
  }
 ],
 "metadata": {
  "kernelspec": {
   "display_name": "Python 3",
   "language": "python",
   "name": "python3"
  },
  "language_info": {
   "codemirror_mode": {
    "name": "ipython",
    "version": 3
   },
   "file_extension": ".py",
   "mimetype": "text/x-python",
   "name": "python",
   "nbconvert_exporter": "python",
   "pygments_lexer": "ipython3",
   "version": "3.7.6"
  }
 },
 "nbformat": 4,
 "nbformat_minor": 4
}
