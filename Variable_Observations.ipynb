{
 "cells": [
  {
   "cell_type": "markdown",
   "metadata": {},
   "source": [
    "## Variable Observations"
   ]
  },
  {
   "cell_type": "markdown",
   "metadata": {},
   "source": [
    "### is_bad (target)\n",
    "- highly imbalanced; may need to oversample 'is_bad' class or undersample 'null' class"
   ]
  },
  {
   "cell_type": "markdown",
   "metadata": {},
   "source": [
    "### emp_title:\n",
    "- high missing \n",
    "- high cardinality \n",
    "- probably should remove this feature"
   ]
  },
  {
   "cell_type": "markdown",
   "metadata": {},
   "source": [
    "### emp_length\n",
    "- this should actually be categorical\n",
    "- there are some strange outliers that are above 10, all of which have a target of 'is_bad'"
   ]
  },
  {
   "cell_type": "markdown",
   "metadata": {},
   "source": [
    "### home_owenership\n",
    "- well distributed\n",
    "- there is one 'none' that should probably be 'other'"
   ]
  },
  {
   "cell_type": "markdown",
   "metadata": {},
   "source": [
    "### Notes\n",
    "- high cardinality\n",
    "- uniform\n",
    "- missing a lot values\n",
    "- should toss for now"
   ]
  },
  {
   "cell_type": "markdown",
   "metadata": {},
   "source": [
    "### purpose\n",
    "- high cardinality\n",
    "- toss for now"
   ]
  },
  {
   "cell_type": "markdown",
   "metadata": {},
   "source": [
    "### zip_code\n",
    "- high cardinality\n",
    "- could be helpful if it was grouped or clustered --> sort and label encode"
   ]
  },
  {
   "cell_type": "markdown",
   "metadata": {},
   "source": [
    "### delinq_2yrs\n",
    "- lots of zeros, which makes sense since most are not delinquent\n",
    "- maybe should be binary?\n",
    "- fill in missing with 0 "
   ]
  },
  {
   "cell_type": "markdown",
   "metadata": {},
   "source": [
    "### inq_last_6mths\n",
    "- high zero count\n",
    "- maybe a binary as well?"
   ]
  },
  {
   "cell_type": "markdown",
   "metadata": {},
   "source": [
    "### mths_since_last_delinq\n",
    "- fill in missing with zeros"
   ]
  },
  {
   "cell_type": "markdown",
   "metadata": {},
   "source": [
    "### mths_since_last_record\n",
    "- this is likely a good predictor but has a ton of missing values\n",
    "- maybe fill in missing with max value of the dataset (it's likely empty because they haven't ever had a public record)"
   ]
  },
  {
   "cell_type": "markdown",
   "metadata": {},
   "source": [
    "### pub_rec\n",
    "- number of derogatory (e.g. bankrupty) records in the account\n",
    "- fill missing with 0\n",
    "- should be int value (not categorical)"
   ]
  },
  {
   "cell_type": "markdown",
   "metadata": {},
   "source": [
    "### cr_line_days (engineered)\n",
    "- common value is '1', seems ok to drop"
   ]
  },
  {
   "cell_type": "markdown",
   "metadata": {},
   "source": [
    "### cr_line_mths (engineered)\n",
    "- fill missing with mode (10)"
   ]
  },
  {
   "cell_type": "markdown",
   "metadata": {},
   "source": [
    "### "
   ]
  }
 ],
 "metadata": {
  "kernelspec": {
   "display_name": "Python 3",
   "language": "python",
   "name": "python3"
  },
  "language_info": {
   "codemirror_mode": {
    "name": "ipython",
    "version": 3
   },
   "file_extension": ".py",
   "mimetype": "text/x-python",
   "name": "python",
   "nbconvert_exporter": "python",
   "pygments_lexer": "ipython3",
   "version": "3.7.6"
  }
 },
 "nbformat": 4,
 "nbformat_minor": 4
}
