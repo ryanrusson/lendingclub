{
 "cells": [
  {
   "cell_type": "markdown",
   "metadata": {},
   "source": [
    "## Modeling"
   ]
  },
  {
   "cell_type": "code",
   "execution_count": 11,
   "metadata": {},
   "outputs": [],
   "source": [
    "import pandas as pd\n",
    "import numpy as np\n",
    "import matplotlib.pyplot as plt\n",
    "import os\n",
    "\n",
    "# Read in the data from the .pkl\n",
    "df = pd.read_pickle(\"./data/baseline_fe_data.pkl\")\n",
    "\n",
    "num_cols = list(df._get_numeric_data().columns)\n",
    "cat_cols = list(set(df.columns) - set(df._get_numeric_data().columns))\n",
    "target = ['is_bad']\n",
    "num_cols.remove('is_bad')\n",
    "\n",
    "cols_to_keep = ['is_bad', 'revol_bal', 'debt_to_income', 'revol_util', 'annual_inc', 'total_acc', 'cr_line_yrs', 'open_acc', 'emp_length', 'inq_last_6mths']\n",
    "df = df[cols_to_keep]\n",
    "num_cols = list(df._get_numeric_data().columns)\n",
    "cat_cols = list(set(df.columns) - set(df._get_numeric_data().columns))\n",
    "target = ['is_bad']\n",
    "num_cols.remove('is_bad')"
   ]
  },
  {
   "cell_type": "code",
   "execution_count": 12,
   "metadata": {},
   "outputs": [
    {
     "data": {
      "text/plain": [
       "is_bad              int64\n",
       "revol_bal           int64\n",
       "debt_to_income    float64\n",
       "revol_util        float64\n",
       "annual_inc        float64\n",
       "total_acc         float64\n",
       "cr_line_yrs       float64\n",
       "open_acc          float64\n",
       "emp_length          int64\n",
       "inq_last_6mths    float64\n",
       "dtype: object"
      ]
     },
     "execution_count": 12,
     "metadata": {},
     "output_type": "execute_result"
    }
   ],
   "source": [
    "#df[cat_cols].dtypes\n",
    "df.dtypes"
   ]
  },
  {
   "cell_type": "code",
   "execution_count": 13,
   "metadata": {},
   "outputs": [],
   "source": [
    "#df[num_cols].dtypes"
   ]
  },
  {
   "cell_type": "code",
   "execution_count": 14,
   "metadata": {},
   "outputs": [
    {
     "data": {
      "text/plain": [
       "is_bad    int64\n",
       "dtype: object"
      ]
     },
     "execution_count": 14,
     "metadata": {},
     "output_type": "execute_result"
    }
   ],
   "source": [
    "df[target].dtypes"
   ]
  },
  {
   "cell_type": "code",
   "execution_count": 15,
   "metadata": {},
   "outputs": [
    {
     "name": "stdout",
     "output_type": "stream",
     "text": [
      "<class 'pandas.core.frame.DataFrame'>\n",
      "RangeIndex: 10000 entries, 0 to 9999\n",
      "Data columns (total 10 columns):\n",
      " #   Column          Non-Null Count  Dtype  \n",
      "---  ------          --------------  -----  \n",
      " 0   is_bad          10000 non-null  int64  \n",
      " 1   revol_bal       10000 non-null  int64  \n",
      " 2   debt_to_income  10000 non-null  float64\n",
      " 3   revol_util      10000 non-null  float64\n",
      " 4   annual_inc      10000 non-null  float64\n",
      " 5   total_acc       10000 non-null  float64\n",
      " 6   cr_line_yrs     10000 non-null  float64\n",
      " 7   open_acc        10000 non-null  float64\n",
      " 8   emp_length      10000 non-null  int64  \n",
      " 9   inq_last_6mths  10000 non-null  float64\n",
      "dtypes: float64(7), int64(3)\n",
      "memory usage: 781.4 KB\n"
     ]
    }
   ],
   "source": [
    "df.info()"
   ]
  },
  {
   "cell_type": "code",
   "execution_count": 16,
   "metadata": {},
   "outputs": [],
   "source": [
    "#def zip_region(x):\n",
    "#    return x[1:3]\n",
    "#\n",
    "#df['zip_region'] = df.zip_code.apply(zip_region)\n",
    "#df.drop('zip_code', axis=1, inplace=True)"
   ]
  },
  {
   "cell_type": "code",
   "execution_count": 17,
   "metadata": {},
   "outputs": [],
   "source": [
    "#df.info()"
   ]
  },
  {
   "cell_type": "markdown",
   "metadata": {},
   "source": [
    "## Log transformation of numeric parameters"
   ]
  },
  {
   "cell_type": "code",
   "execution_count": 18,
   "metadata": {},
   "outputs": [
    {
     "data": {
      "text/html": [
       "<div>\n",
       "<style scoped>\n",
       "    .dataframe tbody tr th:only-of-type {\n",
       "        vertical-align: middle;\n",
       "    }\n",
       "\n",
       "    .dataframe tbody tr th {\n",
       "        vertical-align: top;\n",
       "    }\n",
       "\n",
       "    .dataframe thead th {\n",
       "        text-align: right;\n",
       "    }\n",
       "</style>\n",
       "<table border=\"1\" class=\"dataframe\">\n",
       "  <thead>\n",
       "    <tr style=\"text-align: right;\">\n",
       "      <th></th>\n",
       "      <th>revol_bal</th>\n",
       "      <th>annual_inc</th>\n",
       "      <th>total_acc</th>\n",
       "      <th>cr_line_yrs</th>\n",
       "      <th>open_acc</th>\n",
       "      <th>emp_length</th>\n",
       "      <th>inq_last_6mths</th>\n",
       "    </tr>\n",
       "  </thead>\n",
       "  <tbody>\n",
       "    <tr>\n",
       "      <th>0</th>\n",
       "      <td>9.399969</td>\n",
       "      <td>10.819798</td>\n",
       "      <td>3.806662</td>\n",
       "      <td>7.597396</td>\n",
       "      <td>2.772589</td>\n",
       "      <td>2.397895</td>\n",
       "      <td>0.000000</td>\n",
       "    </tr>\n",
       "    <tr>\n",
       "      <th>1</th>\n",
       "      <td>9.221775</td>\n",
       "      <td>10.576866</td>\n",
       "      <td>1.791759</td>\n",
       "      <td>7.603898</td>\n",
       "      <td>1.609438</td>\n",
       "      <td>0.693147</td>\n",
       "      <td>1.098612</td>\n",
       "    </tr>\n",
       "    <tr>\n",
       "      <th>2</th>\n",
       "      <td>4.406719</td>\n",
       "      <td>11.082158</td>\n",
       "      <td>2.197225</td>\n",
       "      <td>7.586296</td>\n",
       "      <td>1.609438</td>\n",
       "      <td>1.609438</td>\n",
       "      <td>0.000000</td>\n",
       "    </tr>\n",
       "    <tr>\n",
       "      <th>3</th>\n",
       "      <td>9.213436</td>\n",
       "      <td>10.959558</td>\n",
       "      <td>3.178054</td>\n",
       "      <td>7.592366</td>\n",
       "      <td>1.945910</td>\n",
       "      <td>2.397895</td>\n",
       "      <td>0.000000</td>\n",
       "    </tr>\n",
       "    <tr>\n",
       "      <th>4</th>\n",
       "      <td>9.281823</td>\n",
       "      <td>10.819878</td>\n",
       "      <td>3.091042</td>\n",
       "      <td>7.600902</td>\n",
       "      <td>2.197225</td>\n",
       "      <td>2.397895</td>\n",
       "      <td>1.609438</td>\n",
       "    </tr>\n",
       "    <tr>\n",
       "      <th>...</th>\n",
       "      <td>...</td>\n",
       "      <td>...</td>\n",
       "      <td>...</td>\n",
       "      <td>...</td>\n",
       "      <td>...</td>\n",
       "      <td>...</td>\n",
       "      <td>...</td>\n",
       "    </tr>\n",
       "    <tr>\n",
       "      <th>9995</th>\n",
       "      <td>8.204398</td>\n",
       "      <td>11.101206</td>\n",
       "      <td>2.397895</td>\n",
       "      <td>7.601902</td>\n",
       "      <td>2.197225</td>\n",
       "      <td>1.791759</td>\n",
       "      <td>0.693147</td>\n",
       "    </tr>\n",
       "    <tr>\n",
       "      <th>9996</th>\n",
       "      <td>8.811354</td>\n",
       "      <td>10.165890</td>\n",
       "      <td>2.564949</td>\n",
       "      <td>7.601402</td>\n",
       "      <td>2.197225</td>\n",
       "      <td>0.693147</td>\n",
       "      <td>0.693147</td>\n",
       "    </tr>\n",
       "    <tr>\n",
       "      <th>9997</th>\n",
       "      <td>9.336709</td>\n",
       "      <td>10.775450</td>\n",
       "      <td>2.890372</td>\n",
       "      <td>7.595890</td>\n",
       "      <td>2.302585</td>\n",
       "      <td>2.197225</td>\n",
       "      <td>0.000000</td>\n",
       "    </tr>\n",
       "    <tr>\n",
       "      <th>9998</th>\n",
       "      <td>9.750220</td>\n",
       "      <td>11.156265</td>\n",
       "      <td>3.332205</td>\n",
       "      <td>7.600902</td>\n",
       "      <td>2.302585</td>\n",
       "      <td>1.945910</td>\n",
       "      <td>1.098612</td>\n",
       "    </tr>\n",
       "    <tr>\n",
       "      <th>9999</th>\n",
       "      <td>7.742836</td>\n",
       "      <td>11.164233</td>\n",
       "      <td>3.555348</td>\n",
       "      <td>7.601402</td>\n",
       "      <td>2.772589</td>\n",
       "      <td>0.693147</td>\n",
       "      <td>0.693147</td>\n",
       "    </tr>\n",
       "  </tbody>\n",
       "</table>\n",
       "<p>10000 rows × 7 columns</p>\n",
       "</div>"
      ],
      "text/plain": [
       "      revol_bal  annual_inc  total_acc  cr_line_yrs  open_acc  emp_length  \\\n",
       "0      9.399969   10.819798   3.806662     7.597396  2.772589    2.397895   \n",
       "1      9.221775   10.576866   1.791759     7.603898  1.609438    0.693147   \n",
       "2      4.406719   11.082158   2.197225     7.586296  1.609438    1.609438   \n",
       "3      9.213436   10.959558   3.178054     7.592366  1.945910    2.397895   \n",
       "4      9.281823   10.819878   3.091042     7.600902  2.197225    2.397895   \n",
       "...         ...         ...        ...          ...       ...         ...   \n",
       "9995   8.204398   11.101206   2.397895     7.601902  2.197225    1.791759   \n",
       "9996   8.811354   10.165890   2.564949     7.601402  2.197225    0.693147   \n",
       "9997   9.336709   10.775450   2.890372     7.595890  2.302585    2.197225   \n",
       "9998   9.750220   11.156265   3.332205     7.600902  2.302585    1.945910   \n",
       "9999   7.742836   11.164233   3.555348     7.601402  2.772589    0.693147   \n",
       "\n",
       "      inq_last_6mths  \n",
       "0           0.000000  \n",
       "1           1.098612  \n",
       "2           0.000000  \n",
       "3           0.000000  \n",
       "4           1.609438  \n",
       "...              ...  \n",
       "9995        0.693147  \n",
       "9996        0.693147  \n",
       "9997        0.000000  \n",
       "9998        1.098612  \n",
       "9999        0.693147  \n",
       "\n",
       "[10000 rows x 7 columns]"
      ]
     },
     "execution_count": 18,
     "metadata": {},
     "output_type": "execute_result"
    }
   ],
   "source": [
    "def log_trans(x):\n",
    "    return np.log(x+1)\n",
    "\n",
    "temp_cols = num_cols.copy()\n",
    "temp_cols.remove('debt_to_income')\n",
    "temp_cols.remove('revol_util')\n",
    "\n",
    "df[temp_cols] = df[temp_cols].apply(log_trans)\n",
    "df[temp_cols]"
   ]
  },
  {
   "cell_type": "code",
   "execution_count": 20,
   "metadata": {},
   "outputs": [],
   "source": [
    "# Create a feature engineered profile report\n",
    "import pandas_profiling\n",
    "profile_file = './ls_profile_report_fe_not_cat.html'\n",
    "\n",
    "override = False\n",
    "if not os.path.exists(profile_file) or override:    \n",
    "    profile = df.profile_report(title='Feature Engineered Lending Club Data Profile Report')\n",
    "    profile.to_file(output_file=profile_file)"
   ]
  },
  {
   "cell_type": "markdown",
   "metadata": {},
   "source": [
    "#### Label Encode and One-Hot Encode Categorical Variables\n",
    "- NOTE: I may need to reduce the dimensions after the one-hot encoding, but we will see how this goes first"
   ]
  },
  {
   "cell_type": "code",
   "execution_count": 21,
   "metadata": {},
   "outputs": [
    {
     "name": "stdout",
     "output_type": "stream",
     "text": [
      "0 columns were label encoded.\n"
     ]
    }
   ],
   "source": [
    "from sklearn import preprocessing\n",
    "\n",
    "count = 0\n",
    "\n",
    "for col in df:\n",
    "    if df[col].dtype == 'object':\n",
    "        if len(list(df[col].unique())) <= 2:     \n",
    "            le = preprocessing.LabelEncoder()\n",
    "            df[col] = le.fit_transform(df[col])\n",
    "            count += 1\n",
    "            print (col)\n",
    "            \n",
    "print('%d columns were label encoded.' % count)"
   ]
  },
  {
   "cell_type": "code",
   "execution_count": 22,
   "metadata": {},
   "outputs": [
    {
     "name": "stdout",
     "output_type": "stream",
     "text": [
      "(10000, 10)\n"
     ]
    }
   ],
   "source": [
    "df = pd.get_dummies(df)\n",
    "print(df.shape)"
   ]
  },
  {
   "cell_type": "code",
   "execution_count": 188,
   "metadata": {},
   "outputs": [],
   "source": [
    "# Save out the data with basic feature engineering\n",
    "#df.to_pickle(\"./data/non_standard_explore_data.pkl\")"
   ]
  },
  {
   "cell_type": "markdown",
   "metadata": {},
   "source": [
    "## Split out the data"
   ]
  },
  {
   "cell_type": "code",
   "execution_count": 23,
   "metadata": {},
   "outputs": [
    {
     "name": "stdout",
     "output_type": "stream",
     "text": [
      "Training Distribution of is_bad:\n",
      "0.1285\n",
      "\n",
      "Test Distribution of is_bad:\n",
      "0.1335\n"
     ]
    }
   ],
   "source": [
    "from sklearn.model_selection import train_test_split\n",
    "seed = 20\n",
    "\n",
    "# Try just using a train/test split at first without sorting the values by time (I don't know how truly time-based this model will be)\n",
    "X_train, X_test, y_train, y_test = train_test_split(df.drop('is_bad',axis=1), df['is_bad'], test_size=0.20, random_state=seed)\n",
    "\n",
    "print(\"Training Distribution of is_bad:\")\n",
    "print(len(y_train[y_train==1])/len(y_train))\n",
    "\n",
    "print()\n",
    "print(\"Test Distribution of is_bad:\")\n",
    "print(len(y_test[y_test==1])/len(y_test))"
   ]
  },
  {
   "cell_type": "markdown",
   "metadata": {},
   "source": [
    "## Standard scale the numerical data"
   ]
  },
  {
   "cell_type": "code",
   "execution_count": 24,
   "metadata": {},
   "outputs": [],
   "source": [
    "from sklearn.preprocessing import StandardScaler\n",
    "sc = StandardScaler()\n",
    "X_train = sc.fit_transform(X_train)\n",
    "X_test = sc.transform(X_test)"
   ]
  },
  {
   "cell_type": "code",
   "execution_count": 25,
   "metadata": {},
   "outputs": [
    {
     "name": "stdout",
     "output_type": "stream",
     "text": [
      "Most Positive Correlations with \"is_bad\"\n",
      "--------------------\n",
      "annual_inc       -0.069336\n",
      "total_acc        -0.067703\n",
      "emp_length       -0.036741\n",
      "open_acc         -0.025441\n",
      "revol_bal         0.004982\n",
      "inq_last_6mths    0.023166\n",
      "cr_line_yrs       0.029531\n",
      "debt_to_income    0.029873\n",
      "revol_util        0.087797\n",
      "is_bad            1.000000\n",
      "Name: is_bad, dtype: float64\n",
      "\n",
      "Most Negative Correlations with \"is_bad\"\n",
      "--------------------\n",
      "annual_inc       -0.069336\n",
      "total_acc        -0.067703\n",
      "emp_length       -0.036741\n",
      "open_acc         -0.025441\n",
      "revol_bal         0.004982\n",
      "inq_last_6mths    0.023166\n",
      "cr_line_yrs       0.029531\n",
      "debt_to_income    0.029873\n",
      "revol_util        0.087797\n",
      "is_bad            1.000000\n",
      "Name: is_bad, dtype: float64\n"
     ]
    }
   ],
   "source": [
    "# See how much this boosts the correlations\n",
    "corr = df.corr()['is_bad'].sort_values()\n",
    "\n",
    "# Display correlations\n",
    "print('Most Positive Correlations with \"is_bad\"')\n",
    "print(20*\"-\")\n",
    "print(corr.tail(10))\n",
    "print()\n",
    "print('Most Negative Correlations with \"is_bad\"')\n",
    "print(20*\"-\")\n",
    "print(corr.head(10))"
   ]
  },
  {
   "cell_type": "code",
   "execution_count": 26,
   "metadata": {},
   "outputs": [],
   "source": [
    "num_cols = list(df._get_numeric_data().columns)\n",
    "cat_cols = list(set(df.columns) - set(df._get_numeric_data().columns))\n",
    "target = ['is_bad']\n",
    "num_cols.remove('is_bad')"
   ]
  },
  {
   "cell_type": "markdown",
   "metadata": {},
   "source": [
    "## Upsample the training data"
   ]
  },
  {
   "cell_type": "code",
   "execution_count": 27,
   "metadata": {},
   "outputs": [],
   "source": [
    "# You need to try and balance the classes within the training set\n",
    "from imblearn.over_sampling import SMOTE\n",
    "sm = SMOTE(random_state=seed)\n",
    "x_train_r, y_train_r = sm.fit_resample(X_train, y_train)"
   ]
  },
  {
   "cell_type": "markdown",
   "metadata": {},
   "source": [
    "## Try 4 initial models: LR Classifier, RF Classifier, LightGBM Classifier, SVM Classifier"
   ]
  },
  {
   "cell_type": "code",
   "execution_count": 28,
   "metadata": {},
   "outputs": [],
   "source": [
    "from sklearn.ensemble import RandomForestClassifier\n",
    "from sklearn.linear_model import LogisticRegression\n",
    "from sklearn.model_selection import cross_val_score, cross_val_predict\n",
    "from sklearn.metrics import accuracy_score, classification_report, confusion_matrix, roc_auc_score, auc, roc_curve\n",
    "from sklearn.model_selection import train_test_split"
   ]
  },
  {
   "cell_type": "code",
   "execution_count": 29,
   "metadata": {},
   "outputs": [],
   "source": [
    "def plot_roc(y_test, y_pred, Title=''):\n",
    "    # Compute ROC curve and ROC area for each class\n",
    "    #fpr = dict()\n",
    "    #tpr = dict()\n",
    "    #roc_auc = dict()\n",
    "    \n",
    "    fpr, tpr, _ = roc_curve(y_test, y_pred)\n",
    "    roc_auc = auc(fpr, tpr)\n",
    "\n",
    "    # Compute micro-average ROC curve and ROC area\n",
    "    #fpr[\"micro\"], tpr[\"micro\"], _ = roc_curve(y_test.ravel(), y_pred.ravel())\n",
    "    #roc_auc[\"micro\"] = auc(fpr[\"micro\"], tpr[\"micro\"])\n",
    "    \n",
    "    plt.figure()\n",
    "    lw = 2\n",
    "    plt.plot(fpr, tpr, color='darkorange', lw=lw, label='ROC curve (area = %0.2f)' % roc_auc)\n",
    "    plt.plot([0, 1], [0, 1], color='navy', lw=lw, linestyle='--')\n",
    "    plt.xlim([0.0, 1.0])\n",
    "    plt.ylim([0.0, 1.05])\n",
    "    plt.xlabel('False Positive Rate')\n",
    "    plt.ylabel('True Positive Rate')\n",
    "    plt.title('Receiver operating characteristic example {0}'.format(Title))\n",
    "    plt.legend(loc=\"lower right\")\n",
    "    plt.show()"
   ]
  },
  {
   "cell_type": "code",
   "execution_count": 30,
   "metadata": {},
   "outputs": [
    {
     "data": {
      "text/plain": [
       "LogisticRegression(C=0.001, random_state=20)"
      ]
     },
     "execution_count": 30,
     "metadata": {},
     "output_type": "execute_result"
    }
   ],
   "source": [
    "# Start with simple logistic regression classifier for second baseline attempt\n",
    "clf_lr = LogisticRegression(C = 0.001, random_state=seed)\n",
    "clf_lr.fit(x_train_r, y_train_r)"
   ]
  },
  {
   "cell_type": "code",
   "execution_count": 31,
   "metadata": {},
   "outputs": [
    {
     "name": "stdout",
     "output_type": "stream",
     "text": [
      "Test AUC score: 0.570989235181355\n",
      "              precision    recall  f1-score   support\n",
      "\n",
      "           0       0.90      0.56      0.69      1733\n",
      "           1       0.17      0.58      0.26       267\n",
      "\n",
      "    accuracy                           0.56      2000\n",
      "   macro avg       0.53      0.57      0.48      2000\n",
      "weighted avg       0.80      0.56      0.63      2000\n",
      "\n",
      "Min accuracy to beat for just random guessing in the TEST set:\n",
      "0.8665\n"
     ]
    }
   ],
   "source": [
    "ypred = clf_lr.predict(X_test)\n",
    "score = roc_auc_score(y_test, ypred)\n",
    "\n",
    "print(f\"Test AUC score: {score}\")\n",
    "print(classification_report(y_test, ypred))\n",
    "\n",
    "print(\"Min accuracy to beat for just random guessing in the TEST set:\")\n",
    "print(len(y_test[y_test == 0])/len(y_test))"
   ]
  },
  {
   "cell_type": "code",
   "execution_count": 32,
   "metadata": {},
   "outputs": [
    {
     "data": {
      "image/png": "[encoded data removed]",
      "text/plain": [
       "<Figure size 576x396 with 1 Axes>"
      ]
     },
     "metadata": {},
     "output_type": "display_data"
    }
   ],
   "source": [
    "plot_roc(y_test, ypred, 'LR')"
   ]
  },
  {
   "cell_type": "code",
   "execution_count": 33,
   "metadata": {},
   "outputs": [
    {
     "data": {
      "text/plain": [
       "RandomForestClassifier(min_samples_leaf=50, n_estimators=200, oob_score=True,\n",
       "                       random_state=20)"
      ]
     },
     "execution_count": 33,
     "metadata": {},
     "output_type": "execute_result"
    }
   ],
   "source": [
    "clf_rf = RandomForestClassifier(n_estimators=200, \n",
    "                                random_state=seed,\n",
    "                                min_samples_split=2,\n",
    "                                min_samples_leaf=50,\n",
    "                                oob_score=True)\n",
    "clf_rf.fit(x_train_r, y_train_r)"
   ]
  },
  {
   "cell_type": "code",
   "execution_count": 34,
   "metadata": {},
   "outputs": [
    {
     "name": "stdout",
     "output_type": "stream",
     "text": [
      "Test AUC score: 0.5541936543544459\n",
      "              precision    recall  f1-score   support\n",
      "\n",
      "           0       0.88      0.84      0.86      1733\n",
      "           1       0.21      0.27      0.23       267\n",
      "\n",
      "    accuracy                           0.77      2000\n",
      "   macro avg       0.54      0.55      0.55      2000\n",
      "weighted avg       0.79      0.77      0.78      2000\n",
      "\n",
      "Min accuracy to beat for just random guessing in the TEST set:\n",
      "0.8665\n"
     ]
    }
   ],
   "source": [
    "ypred = clf_rf.predict(X_test)\n",
    "score = roc_auc_score(y_test, ypred)\n",
    "\n",
    "print(f\"Test AUC score: {score}\")\n",
    "print(classification_report(y_test, ypred))\n",
    "\n",
    "print(\"Min accuracy to beat for just random guessing in the TEST set:\")\n",
    "print(len(y_test[y_test == 0])/len(y_test))"
   ]
  },
  {
   "cell_type": "code",
   "execution_count": 35,
   "metadata": {},
   "outputs": [
    {
     "data": {
      "image/png": "[encoded data removed]",
      "text/plain": [
       "<Figure size 576x396 with 1 Axes>"
      ]
     },
     "metadata": {},
     "output_type": "display_data"
    }
   ],
   "source": [
    "plot_roc(y_test, ypred, 'RF')"
   ]
  },
  {
   "cell_type": "code",
   "execution_count": 36,
   "metadata": {},
   "outputs": [],
   "source": [
    "import lightgbm as lgb\n",
    "\n",
    "dtrain = lgb.Dataset(x_train_r, label=y_train_r)\n",
    "dvalid = lgb.Dataset(X_test, label=y_test)\n",
    "\n",
    "param = {'num_leaves': 32, 'objective': 'binary'}\n",
    "param['metric'] = 'auc'\n",
    "num_round = 1000\n",
    "bst = lgb.train(param, dtrain, num_round, valid_sets=[dvalid], early_stopping_rounds=20, verbose_eval=False)"
   ]
  },
  {
   "cell_type": "code",
   "execution_count": 37,
   "metadata": {},
   "outputs": [
    {
     "name": "stdout",
     "output_type": "stream",
     "text": [
      "Test AUC score: 0.6213738164858842\n",
      "              precision    recall  f1-score   support\n",
      "\n",
      "           0       0.87      1.00      0.93      1733\n",
      "           1       0.75      0.03      0.06       267\n",
      "\n",
      "    accuracy                           0.87      2000\n",
      "   macro avg       0.81      0.52      0.50      2000\n",
      "weighted avg       0.85      0.87      0.81      2000\n",
      "\n",
      "Min accuracy to beat for just random guessing in the TEST set:\n",
      "0.8665\n"
     ]
    }
   ],
   "source": [
    "ypred = bst.predict(X_test)\n",
    "#ypred_thresh = [1 if x >= 0.5 else 0 for x in ypred]\n",
    "\n",
    "score = roc_auc_score(y_test, ypred)\n",
    "\n",
    "print(f\"Test AUC score: {score}\")\n",
    "print(classification_report(y_test, np.around(ypred, 0)))\n",
    "\n",
    "print(\"Min accuracy to beat for just random guessing in the TEST set:\")\n",
    "print(len(y_test[y_test == 0])/len(y_test))"
   ]
  },
  {
   "cell_type": "code",
   "execution_count": null,
   "metadata": {},
   "outputs": [],
   "source": [
    "plot_roc(y_test, ypred, 'LGBM')"
   ]
  },
  {
   "cell_type": "code",
   "execution_count": 214,
   "metadata": {},
   "outputs": [
    {
     "data": {
      "text/plain": [
       "SVC(C=0.1)"
      ]
     },
     "execution_count": 214,
     "metadata": {},
     "output_type": "execute_result"
    }
   ],
   "source": [
    "from sklearn.svm import SVC\n",
    "\n",
    "clf_svm = SVC(C=0.1)\n",
    "clf_svm.fit(x_train_r, y_train_r)"
   ]
  },
  {
   "cell_type": "code",
   "execution_count": 215,
   "metadata": {},
   "outputs": [
    {
     "name": "stdout",
     "output_type": "stream",
     "text": [
      "Test AUC score: 0.6259706382601669\n",
      "              precision    recall  f1-score   support\n",
      "\n",
      "           0       0.91      0.70      0.79      1733\n",
      "           1       0.22      0.55      0.32       267\n",
      "\n",
      "    accuracy                           0.68      2000\n",
      "   macro avg       0.57      0.63      0.55      2000\n",
      "weighted avg       0.82      0.68      0.73      2000\n",
      "\n",
      "Min accuracy to beat for just random guessing in the TEST set:\n",
      "0.8665\n"
     ]
    }
   ],
   "source": [
    "ypred = clf_svm.predict(X_test)\n",
    "#ypred_thresh = [1 if x >= 0.5 else 0 for x in ypred]\n",
    "\n",
    "score = roc_auc_score(y_test, ypred)\n",
    "\n",
    "print(f\"Test AUC score: {score}\")\n",
    "print(classification_report(y_test, np.around(ypred, 0)))\n",
    "\n",
    "print(\"Min accuracy to beat for just random guessing in the TEST set:\")\n",
    "print(len(y_test[y_test == 0])/len(y_test))"
   ]
  },
  {
   "cell_type": "code",
   "execution_count": 216,
   "metadata": {},
   "outputs": [
    {
     "data": {
      "image/png": "[encoded data removed]",
      "text/plain": [
       "<Figure size 576x396 with 1 Axes>"
      ]
     },
     "metadata": {},
     "output_type": "display_data"
    }
   ],
   "source": [
    "plot_roc(y_test, ypred, 'SVM')"
   ]
  },
  {
   "cell_type": "markdown",
   "metadata": {},
   "source": [
    "### Gradient Boosted Methods + Kfold Cross-validation"
   ]
  },
  {
   "cell_type": "code",
   "execution_count": null,
   "metadata": {},
   "outputs": [],
   "source": [
    "from sklearn.model_selection import cross_val_score, KFold\n",
    "from sklearn.model_selection import RepeatedStratifiedKFold\n",
    "from lightgbm import LGBMClassifier\n",
    "\n",
    "kfold = KFold(n_splits=10)\n",
    "\n",
    "clf_lgb = LGBMClassifier()\n",
    "cv = RepeatedStratifiedKFold(n_splits=10, n_repeats=3, random_state=seed)\n",
    "n_scores = cross_val_score(clf_lgb, x_train_r, y_train_r, scoring='accuracy', cv=cv, n_jobs=-1, error_score='raise')\n",
    "#clf_lgb.fit(x_train_r, y_train_r)"
   ]
  },
  {
   "cell_type": "code",
   "execution_count": null,
   "metadata": {},
   "outputs": [],
   "source": [
    "for train_indices, test_indices in kfold.split(x_train_r):\n",
    "    print('Train: %s | test: %s' % (train_indices, test_indices))"
   ]
  },
  {
   "cell_type": "code",
   "execution_count": null,
   "metadata": {},
   "outputs": [],
   "source": [
    "n_scores"
   ]
  },
  {
   "cell_type": "code",
   "execution_count": null,
   "metadata": {},
   "outputs": [],
   "source": [
    "#ypred = clf_lgb.predict(validation[feature_cols])\n",
    "#score = metrics.roc_auc_score(validation['is_bad'], ypred)\n",
    "\n",
    "ypred = clf_lgb.predict(X_test)\n",
    "score = metrics.roc_auc_score(y_test, ypred)\n",
    "\n",
    "print(f\"Test AUC score: {score}\")\n",
    "print(metrics.classification_report(y_test, ypred))\n",
    "\n",
    "print(\"Min accuracy to beat for just random guessing in the TEST set:\")\n",
    "print(len(validation[validation.is_bad == 0])/len(validation))"
   ]
  }
 ],
 "metadata": {
  "kernelspec": {
   "display_name": "Python 3",
   "language": "python",
   "name": "python3"
  },
  "language_info": {
   "codemirror_mode": {
    "name": "ipython",
    "version": 3
   },
   "file_extension": ".py",
   "mimetype": "text/x-python",
   "name": "python",
   "nbconvert_exporter": "python",
   "pygments_lexer": "ipython3",
   "version": "3.7.6"
  }
 },
 "nbformat": 4,
 "nbformat_minor": 4
}
