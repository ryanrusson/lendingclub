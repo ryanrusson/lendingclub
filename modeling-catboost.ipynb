{
 "cells": [
  {
   "cell_type": "markdown",
   "metadata": {},
   "source": [
    "## Modeling"
   ]
  },
  {
   "cell_type": "code",
   "execution_count": 4,
   "metadata": {},
   "outputs": [],
   "source": [
    "import pandas as pd\n",
    "import numpy as np\n",
    "import matplotlib.pyplot as plt\n",
    "import os\n",
    "\n",
    "# Read in the data from the .pkl\n",
    "df = pd.read_pickle(\"./data/baseline_fe_data.pkl\")\n",
    "\n",
    "num_cols = list(df._get_numeric_data().columns)\n",
    "cat_cols = list(set(df.columns) - set(df._get_numeric_data().columns))\n",
    "target = ['is_bad']\n",
    "num_cols.remove('is_bad')"
   ]
  },
  {
   "cell_type": "code",
   "execution_count": 5,
   "metadata": {},
   "outputs": [
    {
     "data": {
      "text/plain": [
       "zip_code               object\n",
       "initial_list_status    object\n",
       "addr_state             object\n",
       "verification_status    object\n",
       "policy_code            object\n",
       "purpose_cat            object\n",
       "home_ownership         object\n",
       "pymnt_plan             object\n",
       "dtype: object"
      ]
     },
     "execution_count": 5,
     "metadata": {},
     "output_type": "execute_result"
    }
   ],
   "source": [
    "df[cat_cols].dtypes"
   ]
  },
  {
   "cell_type": "code",
   "execution_count": 6,
   "metadata": {},
   "outputs": [
    {
     "data": {
      "text/plain": [
       "emp_length                       int64\n",
       "annual_inc                     float64\n",
       "debt_to_income                 float64\n",
       "delinq_2yrs                    float64\n",
       "inq_last_6mths                 float64\n",
       "mths_since_last_delinq         float64\n",
       "mths_since_last_record           int64\n",
       "open_acc                       float64\n",
       "pub_rec                          int64\n",
       "revol_bal                        int64\n",
       "revol_util                     float64\n",
       "total_acc                      float64\n",
       "mths_since_last_major_derog      int64\n",
       "cr_line_yrs                    float64\n",
       "cr_line_mths                     int64\n",
       "dtype: object"
      ]
     },
     "execution_count": 6,
     "metadata": {},
     "output_type": "execute_result"
    }
   ],
   "source": [
    "df[num_cols].dtypes"
   ]
  },
  {
   "cell_type": "code",
   "execution_count": 7,
   "metadata": {},
   "outputs": [
    {
     "data": {
      "text/plain": [
       "is_bad    int64\n",
       "dtype: object"
      ]
     },
     "execution_count": 7,
     "metadata": {},
     "output_type": "execute_result"
    }
   ],
   "source": [
    "df[target].dtypes"
   ]
  },
  {
   "cell_type": "code",
   "execution_count": 8,
   "metadata": {},
   "outputs": [
    {
     "name": "stdout",
     "output_type": "stream",
     "text": [
      "<class 'pandas.core.frame.DataFrame'>\n",
      "RangeIndex: 10000 entries, 0 to 9999\n",
      "Data columns (total 24 columns):\n",
      " #   Column                       Non-Null Count  Dtype  \n",
      "---  ------                       --------------  -----  \n",
      " 0   is_bad                       10000 non-null  int64  \n",
      " 1   emp_length                   10000 non-null  int64  \n",
      " 2   home_ownership               10000 non-null  object \n",
      " 3   annual_inc                   10000 non-null  float64\n",
      " 4   verification_status          10000 non-null  object \n",
      " 5   pymnt_plan                   10000 non-null  object \n",
      " 6   purpose_cat                  10000 non-null  object \n",
      " 7   zip_code                     10000 non-null  object \n",
      " 8   addr_state                   10000 non-null  object \n",
      " 9   debt_to_income               10000 non-null  float64\n",
      " 10  delinq_2yrs                  10000 non-null  float64\n",
      " 11  inq_last_6mths               10000 non-null  float64\n",
      " 12  mths_since_last_delinq       10000 non-null  float64\n",
      " 13  mths_since_last_record       10000 non-null  int64  \n",
      " 14  open_acc                     10000 non-null  float64\n",
      " 15  pub_rec                      10000 non-null  int64  \n",
      " 16  revol_bal                    10000 non-null  int64  \n",
      " 17  revol_util                   10000 non-null  float64\n",
      " 18  total_acc                    10000 non-null  float64\n",
      " 19  initial_list_status          10000 non-null  object \n",
      " 20  mths_since_last_major_derog  10000 non-null  int64  \n",
      " 21  policy_code                  10000 non-null  object \n",
      " 22  cr_line_yrs                  10000 non-null  float64\n",
      " 23  cr_line_mths                 10000 non-null  int64  \n",
      "dtypes: float64(9), int64(7), object(8)\n",
      "memory usage: 1.8+ MB\n"
     ]
    }
   ],
   "source": [
    "df.info()"
   ]
  },
  {
   "cell_type": "code",
   "execution_count": 9,
   "metadata": {},
   "outputs": [],
   "source": [
    "#def zip_region(x):\n",
    "#    return x[1:3]\n",
    "#\n",
    "#df['zip_region'] = df.zip_code.apply(zip_region)\n",
    "df.drop('zip_code', axis=1, inplace=True)"
   ]
  },
  {
   "cell_type": "code",
   "execution_count": 10,
   "metadata": {},
   "outputs": [
    {
     "name": "stdout",
     "output_type": "stream",
     "text": [
      "<class 'pandas.core.frame.DataFrame'>\n",
      "RangeIndex: 10000 entries, 0 to 9999\n",
      "Data columns (total 23 columns):\n",
      " #   Column                       Non-Null Count  Dtype  \n",
      "---  ------                       --------------  -----  \n",
      " 0   is_bad                       10000 non-null  int64  \n",
      " 1   emp_length                   10000 non-null  int64  \n",
      " 2   home_ownership               10000 non-null  object \n",
      " 3   annual_inc                   10000 non-null  float64\n",
      " 4   verification_status          10000 non-null  object \n",
      " 5   pymnt_plan                   10000 non-null  object \n",
      " 6   purpose_cat                  10000 non-null  object \n",
      " 7   addr_state                   10000 non-null  object \n",
      " 8   debt_to_income               10000 non-null  float64\n",
      " 9   delinq_2yrs                  10000 non-null  float64\n",
      " 10  inq_last_6mths               10000 non-null  float64\n",
      " 11  mths_since_last_delinq       10000 non-null  float64\n",
      " 12  mths_since_last_record       10000 non-null  int64  \n",
      " 13  open_acc                     10000 non-null  float64\n",
      " 14  pub_rec                      10000 non-null  int64  \n",
      " 15  revol_bal                    10000 non-null  int64  \n",
      " 16  revol_util                   10000 non-null  float64\n",
      " 17  total_acc                    10000 non-null  float64\n",
      " 18  initial_list_status          10000 non-null  object \n",
      " 19  mths_since_last_major_derog  10000 non-null  int64  \n",
      " 20  policy_code                  10000 non-null  object \n",
      " 21  cr_line_yrs                  10000 non-null  float64\n",
      " 22  cr_line_mths                 10000 non-null  int64  \n",
      "dtypes: float64(9), int64(7), object(7)\n",
      "memory usage: 1.8+ MB\n"
     ]
    }
   ],
   "source": [
    "df.info()"
   ]
  },
  {
   "cell_type": "markdown",
   "metadata": {},
   "source": [
    "#### Label Encode and One-Hot Encode Categorical Variables\n",
    "- NOTE: I may need to reduce the dimensions after the one-hot encoding, but we will see how this goes first"
   ]
  },
  {
   "cell_type": "raw",
   "metadata": {},
   "source": [
    "from sklearn import preprocessing\n",
    "\n",
    "count = 0\n",
    "\n",
    "for col in df:\n",
    "    if df[col].dtype == 'object':\n",
    "        if len(list(df[col].unique())) <= 2:     \n",
    "            le = preprocessing.LabelEncoder()\n",
    "            df[col] = le.fit_transform(df[col])\n",
    "            count += 1\n",
    "            print (col)\n",
    "            \n",
    "print('%d columns were label encoded.' % count)"
   ]
  },
  {
   "cell_type": "raw",
   "metadata": {},
   "source": [
    "df = pd.get_dummies(df)\n",
    "print(df.shape)"
   ]
  },
  {
   "cell_type": "code",
   "execution_count": 11,
   "metadata": {},
   "outputs": [],
   "source": [
    "# Save out the data with basic feature engineering\n",
    "df.to_pickle(\"./data/non_standard_explore_data.pkl\")"
   ]
  },
  {
   "cell_type": "markdown",
   "metadata": {},
   "source": [
    "## Split out the data"
   ]
  },
  {
   "cell_type": "code",
   "execution_count": 12,
   "metadata": {},
   "outputs": [
    {
     "name": "stdout",
     "output_type": "stream",
     "text": [
      "Training Distribution of is_bad:\n",
      "0.1285\n",
      "\n",
      "Test Distribution of is_bad:\n",
      "0.1335\n"
     ]
    }
   ],
   "source": [
    "from sklearn.model_selection import train_test_split\n",
    "seed = 20\n",
    "\n",
    "# Try just using a train/test split at first without sorting the values by time (I don't know how truly time-based this model will be)\n",
    "X_train, X_test, y_train, y_test = train_test_split(df.drop('is_bad', axis=1), df['is_bad'], test_size=0.20, random_state=seed)\n",
    "\n",
    "print(\"Training Distribution of is_bad:\")\n",
    "print(len(y_train[y_train==1])/len(y_train))\n",
    "\n",
    "print()\n",
    "print(\"Test Distribution of is_bad:\")\n",
    "print(len(y_test[y_test==1])/len(y_test))"
   ]
  },
  {
   "cell_type": "markdown",
   "metadata": {},
   "source": [
    "## Standard scale the numerical data"
   ]
  },
  {
   "cell_type": "code",
   "execution_count": 14,
   "metadata": {},
   "outputs": [],
   "source": [
    "#from sklearn.preprocessing import StandardScaler\n",
    "#sc = StandardScaler()\n",
    "#X_train = sc.fit_transform(X_train)\n",
    "#X_test = sc.transform(X_test)"
   ]
  },
  {
   "cell_type": "code",
   "execution_count": 15,
   "metadata": {},
   "outputs": [
    {
     "name": "stdout",
     "output_type": "stream",
     "text": [
      "Most Positive Correlations with \"is_bad\"\n",
      "--------------------\n",
      "inq_last_6mths                -0.001007\n",
      "mths_since_last_delinq         0.014576\n",
      "mths_since_last_record         0.014978\n",
      "mths_since_last_major_derog    0.015481\n",
      "delinq_2yrs                    0.021897\n",
      "cr_line_yrs                    0.029565\n",
      "debt_to_income                 0.029873\n",
      "pub_rec                        0.032218\n",
      "revol_util                     0.087797\n",
      "is_bad                         1.000000\n",
      "Name: is_bad, dtype: float64\n",
      "\n",
      "Most Negative Correlations with \"is_bad\"\n",
      "--------------------\n",
      "total_acc                     -0.055271\n",
      "annual_inc                    -0.050966\n",
      "cr_line_mths                  -0.035356\n",
      "emp_length                    -0.033449\n",
      "open_acc                      -0.020341\n",
      "revol_bal                     -0.016202\n",
      "inq_last_6mths                -0.001007\n",
      "mths_since_last_delinq         0.014576\n",
      "mths_since_last_record         0.014978\n",
      "mths_since_last_major_derog    0.015481\n",
      "Name: is_bad, dtype: float64\n"
     ]
    }
   ],
   "source": [
    "# See how much this boosts the correlations\n",
    "corr = df.corr()['is_bad'].sort_values()\n",
    "\n",
    "# Display correlations\n",
    "print('Most Positive Correlations with \"is_bad\"')\n",
    "print(20*\"-\")\n",
    "print(corr.tail(10))\n",
    "print()\n",
    "print('Most Negative Correlations with \"is_bad\"')\n",
    "print(20*\"-\")\n",
    "print(corr.head(10))"
   ]
  },
  {
   "cell_type": "code",
   "execution_count": 16,
   "metadata": {},
   "outputs": [],
   "source": [
    "num_cols = list(df._get_numeric_data().columns)\n",
    "cat_cols = list(set(df.columns) - set(df._get_numeric_data().columns))\n",
    "target = ['is_bad']\n",
    "num_cols.remove('is_bad')"
   ]
  },
  {
   "cell_type": "markdown",
   "metadata": {},
   "source": [
    "## Upsample the training data"
   ]
  },
  {
   "cell_type": "code",
   "execution_count": 18,
   "metadata": {},
   "outputs": [],
   "source": [
    "# You need to try and balance the classes within the training set\n",
    "#from imblearn.over_sampling import SMOTE\n",
    "#sm = SMOTE(random_state=seed)\n",
    "#x_train_r, y_train_r = sm.fit_resample(X_train, y_train)"
   ]
  },
  {
   "cell_type": "markdown",
   "metadata": {},
   "source": [
    "## Try CatBoost Model"
   ]
  },
  {
   "cell_type": "code",
   "execution_count": 19,
   "metadata": {},
   "outputs": [],
   "source": [
    "from catboost import CatBoostClassifier\n",
    "from sklearn.model_selection import cross_val_score, cross_val_predict\n",
    "from sklearn.metrics import accuracy_score, classification_report, confusion_matrix, roc_auc_score"
   ]
  },
  {
   "cell_type": "code",
   "execution_count": 29,
   "metadata": {},
   "outputs": [
    {
     "name": "stdout",
     "output_type": "stream",
     "text": [
      "0:\tlearn: 0.0009728\ttest: 0.0000000\tbest: 0.0000000 (0)\ttotal: 11.5ms\tremaining: 3.45s\n",
      "1:\tlearn: 0.1206226\ttest: 0.1685393\tbest: 0.1685393 (1)\ttotal: 27.3ms\tremaining: 4.07s\n",
      "2:\tlearn: 0.1206226\ttest: 0.1722846\tbest: 0.1722846 (2)\ttotal: 40.3ms\tremaining: 3.99s\n",
      "3:\tlearn: 0.1225681\ttest: 0.1722846\tbest: 0.1722846 (2)\ttotal: 46.3ms\tremaining: 3.42s\n",
      "4:\tlearn: 0.1546693\ttest: 0.1797753\tbest: 0.1797753 (4)\ttotal: 61.3ms\tremaining: 3.62s\n",
      "5:\tlearn: 0.1556420\ttest: 0.1797753\tbest: 0.1797753 (4)\ttotal: 75.3ms\tremaining: 3.69s\n",
      "6:\tlearn: 0.1517510\ttest: 0.1760300\tbest: 0.1797753 (4)\ttotal: 92.8ms\tremaining: 3.88s\n",
      "7:\tlearn: 0.1556420\ttest: 0.1760300\tbest: 0.1797753 (4)\ttotal: 110ms\tremaining: 4s\n",
      "8:\tlearn: 0.1605058\ttest: 0.1797753\tbest: 0.1797753 (4)\ttotal: 125ms\tremaining: 4.05s\n",
      "9:\tlearn: 0.1585603\ttest: 0.1797753\tbest: 0.1797753 (4)\ttotal: 138ms\tremaining: 4s\n",
      "10:\tlearn: 0.1605058\ttest: 0.1797753\tbest: 0.1797753 (4)\ttotal: 150ms\tremaining: 3.95s\n",
      "11:\tlearn: 0.1605058\ttest: 0.1797753\tbest: 0.1797753 (4)\ttotal: 165ms\tremaining: 3.96s\n",
      "12:\tlearn: 0.1605058\ttest: 0.1797753\tbest: 0.1797753 (4)\ttotal: 187ms\tremaining: 4.13s\n",
      "13:\tlearn: 0.1585603\ttest: 0.1797753\tbest: 0.1797753 (4)\ttotal: 201ms\tremaining: 4.11s\n",
      "14:\tlearn: 0.1605058\ttest: 0.1797753\tbest: 0.1797753 (4)\ttotal: 219ms\tremaining: 4.16s\n",
      "15:\tlearn: 0.1614786\ttest: 0.1760300\tbest: 0.1797753 (4)\ttotal: 233ms\tremaining: 4.13s\n",
      "16:\tlearn: 0.1663424\ttest: 0.1797753\tbest: 0.1797753 (4)\ttotal: 242ms\tremaining: 4.04s\n",
      "17:\tlearn: 0.1663424\ttest: 0.1797753\tbest: 0.1797753 (4)\ttotal: 257ms\tremaining: 4.02s\n",
      "18:\tlearn: 0.1673152\ttest: 0.1797753\tbest: 0.1797753 (4)\ttotal: 271ms\tremaining: 4s\n",
      "19:\tlearn: 0.1682879\ttest: 0.1797753\tbest: 0.1797753 (4)\ttotal: 283ms\tremaining: 3.96s\n",
      "20:\tlearn: 0.1692607\ttest: 0.1797753\tbest: 0.1797753 (4)\ttotal: 297ms\tremaining: 3.95s\n",
      "21:\tlearn: 0.1692607\ttest: 0.1797753\tbest: 0.1797753 (4)\ttotal: 311ms\tremaining: 3.93s\n",
      "22:\tlearn: 0.1702335\ttest: 0.1797753\tbest: 0.1797753 (4)\ttotal: 325ms\tremaining: 3.91s\n",
      "23:\tlearn: 0.1721790\ttest: 0.1797753\tbest: 0.1797753 (4)\ttotal: 337ms\tremaining: 3.87s\n",
      "24:\tlearn: 0.1741245\ttest: 0.1797753\tbest: 0.1797753 (4)\ttotal: 350ms\tremaining: 3.85s\n",
      "25:\tlearn: 0.1741245\ttest: 0.1797753\tbest: 0.1797753 (4)\ttotal: 361ms\tremaining: 3.81s\n",
      "26:\tlearn: 0.1770428\ttest: 0.1760300\tbest: 0.1797753 (4)\ttotal: 375ms\tremaining: 3.79s\n",
      "27:\tlearn: 0.1760700\ttest: 0.1760300\tbest: 0.1797753 (4)\ttotal: 387ms\tremaining: 3.76s\n",
      "28:\tlearn: 0.1770428\ttest: 0.1760300\tbest: 0.1797753 (4)\ttotal: 400ms\tremaining: 3.73s\n",
      "29:\tlearn: 0.1760700\ttest: 0.1760300\tbest: 0.1797753 (4)\ttotal: 413ms\tremaining: 3.72s\n",
      "30:\tlearn: 0.1789883\ttest: 0.1760300\tbest: 0.1797753 (4)\ttotal: 428ms\tremaining: 3.71s\n",
      "31:\tlearn: 0.1799611\ttest: 0.1760300\tbest: 0.1797753 (4)\ttotal: 436ms\tremaining: 3.65s\n",
      "32:\tlearn: 0.1809339\ttest: 0.1760300\tbest: 0.1797753 (4)\ttotal: 451ms\tremaining: 3.65s\n",
      "33:\tlearn: 0.1819066\ttest: 0.1760300\tbest: 0.1797753 (4)\ttotal: 464ms\tremaining: 3.63s\n",
      "34:\tlearn: 0.1809339\ttest: 0.1760300\tbest: 0.1797753 (4)\ttotal: 477ms\tremaining: 3.61s\n",
      "35:\tlearn: 0.1828794\ttest: 0.1760300\tbest: 0.1797753 (4)\ttotal: 490ms\tremaining: 3.6s\n",
      "36:\tlearn: 0.1877432\ttest: 0.1797753\tbest: 0.1797753 (4)\ttotal: 504ms\tremaining: 3.58s\n",
      "37:\tlearn: 0.1877432\ttest: 0.1835206\tbest: 0.1835206 (37)\ttotal: 518ms\tremaining: 3.57s\n",
      "38:\tlearn: 0.1906615\ttest: 0.1797753\tbest: 0.1835206 (37)\ttotal: 531ms\tremaining: 3.56s\n",
      "39:\tlearn: 0.1916342\ttest: 0.1760300\tbest: 0.1835206 (37)\ttotal: 545ms\tremaining: 3.54s\n",
      "40:\tlearn: 0.1926070\ttest: 0.1760300\tbest: 0.1835206 (37)\ttotal: 558ms\tremaining: 3.52s\n",
      "41:\tlearn: 0.1955253\ttest: 0.1835206\tbest: 0.1835206 (37)\ttotal: 571ms\tremaining: 3.51s\n",
      "42:\tlearn: 0.2023346\ttest: 0.1835206\tbest: 0.1835206 (37)\ttotal: 585ms\tremaining: 3.5s\n",
      "43:\tlearn: 0.2033074\ttest: 0.1872659\tbest: 0.1872659 (43)\ttotal: 597ms\tremaining: 3.47s\n",
      "44:\tlearn: 0.2062257\ttest: 0.1872659\tbest: 0.1872659 (43)\ttotal: 610ms\tremaining: 3.46s\n",
      "45:\tlearn: 0.2091440\ttest: 0.1872659\tbest: 0.1872659 (43)\ttotal: 623ms\tremaining: 3.44s\n",
      "46:\tlearn: 0.2110895\ttest: 0.1872659\tbest: 0.1872659 (43)\ttotal: 641ms\tremaining: 3.45s\n",
      "47:\tlearn: 0.2169261\ttest: 0.1872659\tbest: 0.1872659 (43)\ttotal: 654ms\tremaining: 3.43s\n",
      "48:\tlearn: 0.2178988\ttest: 0.1872659\tbest: 0.1872659 (43)\ttotal: 667ms\tremaining: 3.42s\n",
      "49:\tlearn: 0.2208171\ttest: 0.1872659\tbest: 0.1872659 (43)\ttotal: 681ms\tremaining: 3.4s\n",
      "50:\tlearn: 0.2208171\ttest: 0.1872659\tbest: 0.1872659 (43)\ttotal: 693ms\tremaining: 3.38s\n",
      "51:\tlearn: 0.2276265\ttest: 0.1835206\tbest: 0.1872659 (43)\ttotal: 706ms\tremaining: 3.37s\n",
      "52:\tlearn: 0.2266537\ttest: 0.1872659\tbest: 0.1872659 (43)\ttotal: 719ms\tremaining: 3.35s\n",
      "53:\tlearn: 0.2256809\ttest: 0.1835206\tbest: 0.1872659 (43)\ttotal: 732ms\tremaining: 3.33s\n",
      "54:\tlearn: 0.2247082\ttest: 0.1872659\tbest: 0.1872659 (43)\ttotal: 746ms\tremaining: 3.32s\n",
      "55:\tlearn: 0.2305447\ttest: 0.1872659\tbest: 0.1872659 (43)\ttotal: 760ms\tremaining: 3.31s\n",
      "56:\tlearn: 0.2334630\ttest: 0.1835206\tbest: 0.1872659 (43)\ttotal: 774ms\tremaining: 3.3s\n",
      "57:\tlearn: 0.2373541\ttest: 0.1835206\tbest: 0.1872659 (43)\ttotal: 789ms\tremaining: 3.29s\n",
      "58:\tlearn: 0.2392996\ttest: 0.1835206\tbest: 0.1872659 (43)\ttotal: 801ms\tremaining: 3.27s\n",
      "59:\tlearn: 0.2402724\ttest: 0.1835206\tbest: 0.1872659 (43)\ttotal: 814ms\tremaining: 3.26s\n",
      "60:\tlearn: 0.2431907\ttest: 0.1835206\tbest: 0.1872659 (43)\ttotal: 828ms\tremaining: 3.24s\n",
      "61:\tlearn: 0.2480545\ttest: 0.1835206\tbest: 0.1872659 (43)\ttotal: 845ms\tremaining: 3.24s\n",
      "62:\tlearn: 0.2500000\ttest: 0.1835206\tbest: 0.1872659 (43)\ttotal: 859ms\tremaining: 3.23s\n",
      "63:\tlearn: 0.2538911\ttest: 0.1835206\tbest: 0.1872659 (43)\ttotal: 873ms\tremaining: 3.22s\n",
      "64:\tlearn: 0.2529183\ttest: 0.1835206\tbest: 0.1872659 (43)\ttotal: 885ms\tremaining: 3.2s\n",
      "65:\tlearn: 0.2509728\ttest: 0.1835206\tbest: 0.1872659 (43)\ttotal: 898ms\tremaining: 3.18s\n",
      "66:\tlearn: 0.2529183\ttest: 0.1835206\tbest: 0.1872659 (43)\ttotal: 911ms\tremaining: 3.17s\n",
      "67:\tlearn: 0.2577821\ttest: 0.1835206\tbest: 0.1872659 (43)\ttotal: 924ms\tremaining: 3.15s\n",
      "68:\tlearn: 0.2587549\ttest: 0.1835206\tbest: 0.1872659 (43)\ttotal: 938ms\tremaining: 3.14s\n",
      "69:\tlearn: 0.2607004\ttest: 0.1835206\tbest: 0.1872659 (43)\ttotal: 952ms\tremaining: 3.13s\n",
      "70:\tlearn: 0.2607004\ttest: 0.1835206\tbest: 0.1872659 (43)\ttotal: 965ms\tremaining: 3.11s\n",
      "71:\tlearn: 0.2607004\ttest: 0.1835206\tbest: 0.1872659 (43)\ttotal: 978ms\tremaining: 3.1s\n",
      "72:\tlearn: 0.2645914\ttest: 0.1872659\tbest: 0.1872659 (43)\ttotal: 993ms\tremaining: 3.09s\n",
      "73:\tlearn: 0.2684825\ttest: 0.1872659\tbest: 0.1872659 (43)\ttotal: 1s\tremaining: 3.07s\n",
      "74:\tlearn: 0.2714008\ttest: 0.1872659\tbest: 0.1872659 (43)\ttotal: 1.02s\tremaining: 3.06s\n",
      "75:\tlearn: 0.2733463\ttest: 0.1910112\tbest: 0.1910112 (75)\ttotal: 1.03s\tremaining: 3.05s\n",
      "76:\tlearn: 0.2743191\ttest: 0.1910112\tbest: 0.1910112 (75)\ttotal: 1.05s\tremaining: 3.04s\n",
      "77:\tlearn: 0.2782101\ttest: 0.1910112\tbest: 0.1910112 (75)\ttotal: 1.06s\tremaining: 3.03s\n",
      "78:\tlearn: 0.2782101\ttest: 0.1910112\tbest: 0.1910112 (75)\ttotal: 1.08s\tremaining: 3.02s\n",
      "79:\tlearn: 0.2830739\ttest: 0.1910112\tbest: 0.1910112 (75)\ttotal: 1.09s\tremaining: 3s\n",
      "80:\tlearn: 0.2859922\ttest: 0.1910112\tbest: 0.1910112 (75)\ttotal: 1.11s\tremaining: 2.99s\n",
      "81:\tlearn: 0.2840467\ttest: 0.1910112\tbest: 0.1910112 (75)\ttotal: 1.12s\tremaining: 2.98s\n",
      "82:\tlearn: 0.2889105\ttest: 0.1910112\tbest: 0.1910112 (75)\ttotal: 1.14s\tremaining: 2.97s\n",
      "83:\tlearn: 0.2908560\ttest: 0.1910112\tbest: 0.1910112 (75)\ttotal: 1.15s\tremaining: 2.96s\n",
      "84:\tlearn: 0.2937743\ttest: 0.1910112\tbest: 0.1910112 (75)\ttotal: 1.16s\tremaining: 2.94s\n",
      "85:\tlearn: 0.2966926\ttest: 0.1910112\tbest: 0.1910112 (75)\ttotal: 1.18s\tremaining: 2.93s\n",
      "86:\tlearn: 0.2957198\ttest: 0.1947566\tbest: 0.1947566 (86)\ttotal: 1.19s\tremaining: 2.92s\n",
      "87:\tlearn: 0.2996109\ttest: 0.1947566\tbest: 0.1947566 (86)\ttotal: 1.21s\tremaining: 2.9s\n",
      "88:\tlearn: 0.3025292\ttest: 0.1947566\tbest: 0.1947566 (86)\ttotal: 1.22s\tremaining: 2.89s\n",
      "89:\tlearn: 0.3093385\ttest: 0.1985019\tbest: 0.1985019 (89)\ttotal: 1.23s\tremaining: 2.88s\n",
      "90:\tlearn: 0.3161479\ttest: 0.1985019\tbest: 0.1985019 (89)\ttotal: 1.25s\tremaining: 2.86s\n",
      "91:\tlearn: 0.3190661\ttest: 0.1985019\tbest: 0.1985019 (89)\ttotal: 1.26s\tremaining: 2.85s\n",
      "92:\tlearn: 0.3190661\ttest: 0.1985019\tbest: 0.1985019 (89)\ttotal: 1.28s\tremaining: 2.84s\n",
      "93:\tlearn: 0.3200389\ttest: 0.1985019\tbest: 0.1985019 (89)\ttotal: 1.29s\tremaining: 2.83s\n",
      "94:\tlearn: 0.3200389\ttest: 0.1947566\tbest: 0.1985019 (89)\ttotal: 1.3s\tremaining: 2.81s\n",
      "95:\tlearn: 0.3219844\ttest: 0.1985019\tbest: 0.1985019 (89)\ttotal: 1.32s\tremaining: 2.8s\n",
      "96:\tlearn: 0.3249027\ttest: 0.1947566\tbest: 0.1985019 (89)\ttotal: 1.33s\tremaining: 2.79s\n",
      "97:\tlearn: 0.3258755\ttest: 0.1947566\tbest: 0.1985019 (89)\ttotal: 1.34s\tremaining: 2.77s\n",
      "98:\tlearn: 0.3268482\ttest: 0.1947566\tbest: 0.1985019 (89)\ttotal: 1.36s\tremaining: 2.75s\n",
      "99:\tlearn: 0.3297665\ttest: 0.1947566\tbest: 0.1985019 (89)\ttotal: 1.37s\tremaining: 2.74s\n",
      "100:\tlearn: 0.3317121\ttest: 0.1947566\tbest: 0.1985019 (89)\ttotal: 1.39s\tremaining: 2.73s\n",
      "101:\tlearn: 0.3317121\ttest: 0.1947566\tbest: 0.1985019 (89)\ttotal: 1.4s\tremaining: 2.71s\n",
      "102:\tlearn: 0.3356031\ttest: 0.1947566\tbest: 0.1985019 (89)\ttotal: 1.41s\tremaining: 2.7s\n",
      "103:\tlearn: 0.3336576\ttest: 0.1947566\tbest: 0.1985019 (89)\ttotal: 1.43s\tremaining: 2.69s\n",
      "104:\tlearn: 0.3385214\ttest: 0.1947566\tbest: 0.1985019 (89)\ttotal: 1.44s\tremaining: 2.67s\n",
      "105:\tlearn: 0.3414397\ttest: 0.1985019\tbest: 0.1985019 (89)\ttotal: 1.45s\tremaining: 2.66s\n",
      "106:\tlearn: 0.3433852\ttest: 0.1985019\tbest: 0.1985019 (89)\ttotal: 1.47s\tremaining: 2.65s\n",
      "107:\tlearn: 0.3463035\ttest: 0.1985019\tbest: 0.1985019 (89)\ttotal: 1.48s\tremaining: 2.63s\n",
      "108:\tlearn: 0.3560311\ttest: 0.1947566\tbest: 0.1985019 (89)\ttotal: 1.49s\tremaining: 2.62s\n",
      "109:\tlearn: 0.3579767\ttest: 0.1947566\tbest: 0.1985019 (89)\ttotal: 1.51s\tremaining: 2.6s\n",
      "110:\tlearn: 0.3589494\ttest: 0.1947566\tbest: 0.1985019 (89)\ttotal: 1.52s\tremaining: 2.59s\n",
      "111:\tlearn: 0.3628405\ttest: 0.1947566\tbest: 0.1985019 (89)\ttotal: 1.53s\tremaining: 2.58s\n",
      "112:\tlearn: 0.3638132\ttest: 0.1947566\tbest: 0.1985019 (89)\ttotal: 1.55s\tremaining: 2.56s\n",
      "113:\tlearn: 0.3647860\ttest: 0.1947566\tbest: 0.1985019 (89)\ttotal: 1.56s\tremaining: 2.55s\n",
      "114:\tlearn: 0.3667315\ttest: 0.1947566\tbest: 0.1985019 (89)\ttotal: 1.58s\tremaining: 2.54s\n",
      "115:\tlearn: 0.3715953\ttest: 0.1985019\tbest: 0.1985019 (89)\ttotal: 1.59s\tremaining: 2.52s\n",
      "116:\tlearn: 0.3745136\ttest: 0.2022472\tbest: 0.2022472 (116)\ttotal: 1.6s\tremaining: 2.51s\n",
      "117:\tlearn: 0.3754864\ttest: 0.2022472\tbest: 0.2022472 (116)\ttotal: 1.62s\tremaining: 2.5s\n",
      "118:\tlearn: 0.3754864\ttest: 0.2022472\tbest: 0.2022472 (116)\ttotal: 1.63s\tremaining: 2.48s\n",
      "119:\tlearn: 0.3784047\ttest: 0.2022472\tbest: 0.2022472 (116)\ttotal: 1.65s\tremaining: 2.47s\n",
      "120:\tlearn: 0.3803502\ttest: 0.2022472\tbest: 0.2022472 (116)\ttotal: 1.66s\tremaining: 2.46s\n",
      "121:\tlearn: 0.3861868\ttest: 0.2022472\tbest: 0.2022472 (116)\ttotal: 1.68s\tremaining: 2.45s\n",
      "122:\tlearn: 0.3920233\ttest: 0.2022472\tbest: 0.2022472 (116)\ttotal: 1.69s\tremaining: 2.43s\n",
      "123:\tlearn: 0.3939689\ttest: 0.2022472\tbest: 0.2022472 (116)\ttotal: 1.7s\tremaining: 2.42s\n",
      "124:\tlearn: 0.3939689\ttest: 0.2022472\tbest: 0.2022472 (116)\ttotal: 1.72s\tremaining: 2.4s\n",
      "125:\tlearn: 0.3968872\ttest: 0.2022472\tbest: 0.2022472 (116)\ttotal: 1.73s\tremaining: 2.39s\n",
      "126:\tlearn: 0.3998054\ttest: 0.2022472\tbest: 0.2022472 (116)\ttotal: 1.75s\tremaining: 2.38s\n",
      "127:\tlearn: 0.4017510\ttest: 0.1985019\tbest: 0.2022472 (116)\ttotal: 1.76s\tremaining: 2.36s\n",
      "128:\tlearn: 0.4114786\ttest: 0.1985019\tbest: 0.2022472 (116)\ttotal: 1.77s\tremaining: 2.35s\n",
      "129:\tlearn: 0.4105058\ttest: 0.1985019\tbest: 0.2022472 (116)\ttotal: 1.79s\tremaining: 2.34s\n",
      "130:\tlearn: 0.4114786\ttest: 0.1985019\tbest: 0.2022472 (116)\ttotal: 1.8s\tremaining: 2.33s\n",
      "131:\tlearn: 0.4114786\ttest: 0.1985019\tbest: 0.2022472 (116)\ttotal: 1.82s\tremaining: 2.31s\n",
      "132:\tlearn: 0.4124514\ttest: 0.1985019\tbest: 0.2022472 (116)\ttotal: 1.83s\tremaining: 2.3s\n",
      "133:\tlearn: 0.4124514\ttest: 0.1985019\tbest: 0.2022472 (116)\ttotal: 1.85s\tremaining: 2.29s\n",
      "134:\tlearn: 0.4153696\ttest: 0.1985019\tbest: 0.2022472 (116)\ttotal: 1.86s\tremaining: 2.27s\n",
      "135:\tlearn: 0.4192607\ttest: 0.2022472\tbest: 0.2022472 (116)\ttotal: 1.87s\tremaining: 2.26s\n",
      "136:\tlearn: 0.4212062\ttest: 0.1985019\tbest: 0.2022472 (116)\ttotal: 1.89s\tremaining: 2.25s\n",
      "137:\tlearn: 0.4231518\ttest: 0.1985019\tbest: 0.2022472 (116)\ttotal: 1.9s\tremaining: 2.23s\n",
      "138:\tlearn: 0.4231518\ttest: 0.1947566\tbest: 0.2022472 (116)\ttotal: 1.92s\tremaining: 2.22s\n",
      "139:\tlearn: 0.4270428\ttest: 0.1947566\tbest: 0.2022472 (116)\ttotal: 1.93s\tremaining: 2.21s\n",
      "140:\tlearn: 0.4270428\ttest: 0.1947566\tbest: 0.2022472 (116)\ttotal: 1.95s\tremaining: 2.19s\n",
      "141:\tlearn: 0.4299611\ttest: 0.1985019\tbest: 0.2022472 (116)\ttotal: 1.96s\tremaining: 2.18s\n",
      "142:\tlearn: 0.4387160\ttest: 0.1985019\tbest: 0.2022472 (116)\ttotal: 1.97s\tremaining: 2.17s\n",
      "143:\tlearn: 0.4406615\ttest: 0.1985019\tbest: 0.2022472 (116)\ttotal: 1.99s\tremaining: 2.15s\n",
      "144:\tlearn: 0.4426070\ttest: 0.1985019\tbest: 0.2022472 (116)\ttotal: 2s\tremaining: 2.14s\n",
      "145:\tlearn: 0.4474708\ttest: 0.1985019\tbest: 0.2022472 (116)\ttotal: 2.01s\tremaining: 2.13s\n",
      "146:\tlearn: 0.4464981\ttest: 0.2022472\tbest: 0.2022472 (116)\ttotal: 2.03s\tremaining: 2.11s\n",
      "147:\tlearn: 0.4503891\ttest: 0.2059925\tbest: 0.2059925 (147)\ttotal: 2.04s\tremaining: 2.1s\n",
      "148:\tlearn: 0.4523346\ttest: 0.2059925\tbest: 0.2059925 (147)\ttotal: 2.06s\tremaining: 2.08s\n",
      "149:\tlearn: 0.4552529\ttest: 0.2059925\tbest: 0.2059925 (147)\ttotal: 2.07s\tremaining: 2.07s\n",
      "150:\tlearn: 0.4552529\ttest: 0.2059925\tbest: 0.2059925 (147)\ttotal: 2.08s\tremaining: 2.06s\n",
      "151:\tlearn: 0.4533074\ttest: 0.2059925\tbest: 0.2059925 (147)\ttotal: 2.1s\tremaining: 2.04s\n",
      "152:\tlearn: 0.4591440\ttest: 0.2059925\tbest: 0.2059925 (147)\ttotal: 2.12s\tremaining: 2.03s\n",
      "153:\tlearn: 0.4610895\ttest: 0.2059925\tbest: 0.2059925 (147)\ttotal: 2.13s\tremaining: 2.02s\n",
      "154:\tlearn: 0.4640078\ttest: 0.2022472\tbest: 0.2059925 (147)\ttotal: 2.14s\tremaining: 2s\n",
      "155:\tlearn: 0.4688716\ttest: 0.2022472\tbest: 0.2059925 (147)\ttotal: 2.15s\tremaining: 1.99s\n",
      "156:\tlearn: 0.4698444\ttest: 0.2022472\tbest: 0.2059925 (147)\ttotal: 2.17s\tremaining: 1.98s\n",
      "157:\tlearn: 0.4756809\ttest: 0.2022472\tbest: 0.2059925 (147)\ttotal: 2.19s\tremaining: 1.96s\n",
      "158:\tlearn: 0.4756809\ttest: 0.2022472\tbest: 0.2059925 (147)\ttotal: 2.2s\tremaining: 1.95s\n",
      "159:\tlearn: 0.4776265\ttest: 0.2022472\tbest: 0.2059925 (147)\ttotal: 2.21s\tremaining: 1.94s\n",
      "160:\tlearn: 0.4844358\ttest: 0.2022472\tbest: 0.2059925 (147)\ttotal: 2.23s\tremaining: 1.92s\n",
      "161:\tlearn: 0.4863813\ttest: 0.2022472\tbest: 0.2059925 (147)\ttotal: 2.24s\tremaining: 1.91s\n",
      "162:\tlearn: 0.4912451\ttest: 0.2059925\tbest: 0.2059925 (147)\ttotal: 2.25s\tremaining: 1.9s\n",
      "163:\tlearn: 0.5019455\ttest: 0.2059925\tbest: 0.2059925 (147)\ttotal: 2.27s\tremaining: 1.88s\n",
      "164:\tlearn: 0.5019455\ttest: 0.2059925\tbest: 0.2059925 (147)\ttotal: 2.28s\tremaining: 1.87s\n",
      "165:\tlearn: 0.5038911\ttest: 0.2059925\tbest: 0.2059925 (147)\ttotal: 2.29s\tremaining: 1.85s\n",
      "166:\tlearn: 0.5038911\ttest: 0.2097378\tbest: 0.2097378 (166)\ttotal: 2.31s\tremaining: 1.84s\n",
      "167:\tlearn: 0.5116732\ttest: 0.2022472\tbest: 0.2097378 (166)\ttotal: 2.32s\tremaining: 1.82s\n",
      "168:\tlearn: 0.5116732\ttest: 0.2022472\tbest: 0.2097378 (166)\ttotal: 2.33s\tremaining: 1.81s\n",
      "169:\tlearn: 0.5145914\ttest: 0.2022472\tbest: 0.2097378 (166)\ttotal: 2.35s\tremaining: 1.8s\n",
      "170:\tlearn: 0.5155642\ttest: 0.1985019\tbest: 0.2097378 (166)\ttotal: 2.36s\tremaining: 1.78s\n",
      "171:\tlearn: 0.5175097\ttest: 0.2022472\tbest: 0.2097378 (166)\ttotal: 2.38s\tremaining: 1.77s\n",
      "172:\tlearn: 0.5184825\ttest: 0.2022472\tbest: 0.2097378 (166)\ttotal: 2.39s\tremaining: 1.76s\n",
      "173:\tlearn: 0.5223735\ttest: 0.1985019\tbest: 0.2097378 (166)\ttotal: 2.4s\tremaining: 1.74s\n",
      "174:\tlearn: 0.5262646\ttest: 0.2022472\tbest: 0.2097378 (166)\ttotal: 2.42s\tremaining: 1.73s\n",
      "175:\tlearn: 0.5272374\ttest: 0.2022472\tbest: 0.2097378 (166)\ttotal: 2.43s\tremaining: 1.71s\n",
      "176:\tlearn: 0.5301556\ttest: 0.2022472\tbest: 0.2097378 (166)\ttotal: 2.45s\tremaining: 1.7s\n",
      "177:\tlearn: 0.5359922\ttest: 0.2022472\tbest: 0.2097378 (166)\ttotal: 2.46s\tremaining: 1.69s\n",
      "178:\tlearn: 0.5359922\ttest: 0.2022472\tbest: 0.2097378 (166)\ttotal: 2.47s\tremaining: 1.67s\n",
      "179:\tlearn: 0.5408560\ttest: 0.2059925\tbest: 0.2097378 (166)\ttotal: 2.49s\tremaining: 1.66s\n",
      "180:\tlearn: 0.5428016\ttest: 0.2059925\tbest: 0.2097378 (166)\ttotal: 2.5s\tremaining: 1.64s\n",
      "181:\tlearn: 0.5447471\ttest: 0.2059925\tbest: 0.2097378 (166)\ttotal: 2.52s\tremaining: 1.63s\n",
      "182:\tlearn: 0.5515564\ttest: 0.2059925\tbest: 0.2097378 (166)\ttotal: 2.53s\tremaining: 1.62s\n",
      "183:\tlearn: 0.5544747\ttest: 0.2059925\tbest: 0.2097378 (166)\ttotal: 2.54s\tremaining: 1.6s\n",
      "184:\tlearn: 0.5603113\ttest: 0.2097378\tbest: 0.2097378 (166)\ttotal: 2.56s\tremaining: 1.59s\n",
      "185:\tlearn: 0.5632296\ttest: 0.2097378\tbest: 0.2097378 (166)\ttotal: 2.57s\tremaining: 1.58s\n",
      "186:\tlearn: 0.5593385\ttest: 0.2097378\tbest: 0.2097378 (166)\ttotal: 2.58s\tremaining: 1.56s\n",
      "187:\tlearn: 0.5603113\ttest: 0.2097378\tbest: 0.2097378 (166)\ttotal: 2.6s\tremaining: 1.55s\n",
      "188:\tlearn: 0.5632296\ttest: 0.2097378\tbest: 0.2097378 (166)\ttotal: 2.61s\tremaining: 1.53s\n",
      "189:\tlearn: 0.5651751\ttest: 0.2097378\tbest: 0.2097378 (166)\ttotal: 2.63s\tremaining: 1.52s\n",
      "190:\tlearn: 0.5690661\ttest: 0.2097378\tbest: 0.2097378 (166)\ttotal: 2.64s\tremaining: 1.51s\n",
      "191:\tlearn: 0.5719844\ttest: 0.2097378\tbest: 0.2097378 (166)\ttotal: 2.65s\tremaining: 1.49s\n",
      "192:\tlearn: 0.5729572\ttest: 0.2134831\tbest: 0.2134831 (192)\ttotal: 2.67s\tremaining: 1.48s\n",
      "193:\tlearn: 0.5758755\ttest: 0.2134831\tbest: 0.2134831 (192)\ttotal: 2.68s\tremaining: 1.47s\n",
      "194:\tlearn: 0.5787938\ttest: 0.2134831\tbest: 0.2134831 (192)\ttotal: 2.69s\tremaining: 1.45s\n",
      "195:\tlearn: 0.5836576\ttest: 0.2134831\tbest: 0.2134831 (192)\ttotal: 2.71s\tremaining: 1.44s\n",
      "196:\tlearn: 0.5846304\ttest: 0.2134831\tbest: 0.2134831 (192)\ttotal: 2.72s\tremaining: 1.42s\n",
      "197:\tlearn: 0.5894942\ttest: 0.2134831\tbest: 0.2134831 (192)\ttotal: 2.74s\tremaining: 1.41s\n",
      "198:\tlearn: 0.5904669\ttest: 0.2134831\tbest: 0.2134831 (192)\ttotal: 2.75s\tremaining: 1.4s\n",
      "199:\tlearn: 0.5924125\ttest: 0.2134831\tbest: 0.2134831 (192)\ttotal: 2.77s\tremaining: 1.38s\n",
      "200:\tlearn: 0.5933852\ttest: 0.2134831\tbest: 0.2134831 (192)\ttotal: 2.78s\tremaining: 1.37s\n",
      "201:\tlearn: 0.5943580\ttest: 0.2134831\tbest: 0.2134831 (192)\ttotal: 2.79s\tremaining: 1.35s\n",
      "202:\tlearn: 0.5953307\ttest: 0.2172285\tbest: 0.2172285 (202)\ttotal: 2.81s\tremaining: 1.34s\n",
      "203:\tlearn: 0.6031128\ttest: 0.2134831\tbest: 0.2172285 (202)\ttotal: 2.82s\tremaining: 1.33s\n",
      "204:\tlearn: 0.6031128\ttest: 0.2134831\tbest: 0.2172285 (202)\ttotal: 2.83s\tremaining: 1.31s\n",
      "205:\tlearn: 0.6079767\ttest: 0.2134831\tbest: 0.2172285 (202)\ttotal: 2.85s\tremaining: 1.3s\n",
      "206:\tlearn: 0.6079767\ttest: 0.2134831\tbest: 0.2172285 (202)\ttotal: 2.86s\tremaining: 1.28s\n",
      "207:\tlearn: 0.6079767\ttest: 0.2134831\tbest: 0.2172285 (202)\ttotal: 2.88s\tremaining: 1.27s\n",
      "208:\tlearn: 0.6118677\ttest: 0.2172285\tbest: 0.2172285 (202)\ttotal: 2.89s\tremaining: 1.26s\n",
      "209:\tlearn: 0.6167315\ttest: 0.2172285\tbest: 0.2172285 (202)\ttotal: 2.9s\tremaining: 1.24s\n",
      "210:\tlearn: 0.6186770\ttest: 0.2172285\tbest: 0.2172285 (202)\ttotal: 2.92s\tremaining: 1.23s\n",
      "211:\tlearn: 0.6235409\ttest: 0.2172285\tbest: 0.2172285 (202)\ttotal: 2.94s\tremaining: 1.22s\n",
      "212:\tlearn: 0.6235409\ttest: 0.2172285\tbest: 0.2172285 (202)\ttotal: 2.95s\tremaining: 1.2s\n",
      "213:\tlearn: 0.6235409\ttest: 0.2172285\tbest: 0.2172285 (202)\ttotal: 2.96s\tremaining: 1.19s\n",
      "214:\tlearn: 0.6293774\ttest: 0.2134831\tbest: 0.2172285 (202)\ttotal: 2.98s\tremaining: 1.18s\n",
      "215:\tlearn: 0.6303502\ttest: 0.2134831\tbest: 0.2172285 (202)\ttotal: 2.99s\tremaining: 1.16s\n",
      "216:\tlearn: 0.6332685\ttest: 0.2134831\tbest: 0.2172285 (202)\ttotal: 3s\tremaining: 1.15s\n",
      "217:\tlearn: 0.6352140\ttest: 0.2172285\tbest: 0.2172285 (202)\ttotal: 3.01s\tremaining: 1.13s\n",
      "218:\tlearn: 0.6332685\ttest: 0.2172285\tbest: 0.2172285 (202)\ttotal: 3.03s\tremaining: 1.12s\n",
      "219:\tlearn: 0.6361868\ttest: 0.2172285\tbest: 0.2172285 (202)\ttotal: 3.04s\tremaining: 1.11s\n",
      "220:\tlearn: 0.6381323\ttest: 0.2134831\tbest: 0.2172285 (202)\ttotal: 3.06s\tremaining: 1.09s\n",
      "221:\tlearn: 0.6400778\ttest: 0.2134831\tbest: 0.2172285 (202)\ttotal: 3.07s\tremaining: 1.08s\n",
      "222:\tlearn: 0.6478599\ttest: 0.2134831\tbest: 0.2172285 (202)\ttotal: 3.08s\tremaining: 1.06s\n",
      "223:\tlearn: 0.6517510\ttest: 0.2134831\tbest: 0.2172285 (202)\ttotal: 3.09s\tremaining: 1.05s\n",
      "224:\tlearn: 0.6517510\ttest: 0.2134831\tbest: 0.2172285 (202)\ttotal: 3.11s\tremaining: 1.03s\n",
      "225:\tlearn: 0.6566148\ttest: 0.2134831\tbest: 0.2172285 (202)\ttotal: 3.12s\tremaining: 1.02s\n",
      "226:\tlearn: 0.6566148\ttest: 0.2134831\tbest: 0.2172285 (202)\ttotal: 3.13s\tremaining: 1.01s\n",
      "227:\tlearn: 0.6624514\ttest: 0.2097378\tbest: 0.2172285 (202)\ttotal: 3.15s\tremaining: 995ms\n",
      "228:\tlearn: 0.6643969\ttest: 0.2097378\tbest: 0.2172285 (202)\ttotal: 3.16s\tremaining: 981ms\n",
      "229:\tlearn: 0.6663424\ttest: 0.2097378\tbest: 0.2172285 (202)\ttotal: 3.18s\tremaining: 967ms\n",
      "230:\tlearn: 0.6692607\ttest: 0.2097378\tbest: 0.2172285 (202)\ttotal: 3.19s\tremaining: 953ms\n",
      "231:\tlearn: 0.6741245\ttest: 0.2097378\tbest: 0.2172285 (202)\ttotal: 3.21s\tremaining: 940ms\n",
      "232:\tlearn: 0.6741245\ttest: 0.2097378\tbest: 0.2172285 (202)\ttotal: 3.22s\tremaining: 926ms\n",
      "233:\tlearn: 0.6741245\ttest: 0.2097378\tbest: 0.2172285 (202)\ttotal: 3.24s\tremaining: 914ms\n",
      "234:\tlearn: 0.6809339\ttest: 0.2097378\tbest: 0.2172285 (202)\ttotal: 3.25s\tremaining: 901ms\n",
      "235:\tlearn: 0.6770428\ttest: 0.2097378\tbest: 0.2172285 (202)\ttotal: 3.27s\tremaining: 887ms\n",
      "236:\tlearn: 0.6789883\ttest: 0.2097378\tbest: 0.2172285 (202)\ttotal: 3.28s\tremaining: 873ms\n",
      "237:\tlearn: 0.6780156\ttest: 0.2097378\tbest: 0.2172285 (202)\ttotal: 3.3s\tremaining: 859ms\n",
      "238:\tlearn: 0.6809339\ttest: 0.2097378\tbest: 0.2172285 (202)\ttotal: 3.31s\tremaining: 846ms\n",
      "239:\tlearn: 0.6838521\ttest: 0.2097378\tbest: 0.2172285 (202)\ttotal: 3.33s\tremaining: 833ms\n",
      "240:\tlearn: 0.6828794\ttest: 0.2134831\tbest: 0.2172285 (202)\ttotal: 3.35s\tremaining: 819ms\n",
      "241:\tlearn: 0.6828794\ttest: 0.2134831\tbest: 0.2172285 (202)\ttotal: 3.36s\tremaining: 805ms\n",
      "242:\tlearn: 0.6848249\ttest: 0.2134831\tbest: 0.2172285 (202)\ttotal: 3.37s\tremaining: 792ms\n",
      "243:\tlearn: 0.6906615\ttest: 0.2134831\tbest: 0.2172285 (202)\ttotal: 3.39s\tremaining: 777ms\n",
      "244:\tlearn: 0.6945525\ttest: 0.2134831\tbest: 0.2172285 (202)\ttotal: 3.4s\tremaining: 763ms\n",
      "245:\tlearn: 0.6926070\ttest: 0.2134831\tbest: 0.2172285 (202)\ttotal: 3.41s\tremaining: 750ms\n",
      "246:\tlearn: 0.6935798\ttest: 0.2134831\tbest: 0.2172285 (202)\ttotal: 3.43s\tremaining: 736ms\n",
      "247:\tlearn: 0.6945525\ttest: 0.2134831\tbest: 0.2172285 (202)\ttotal: 3.44s\tremaining: 722ms\n",
      "248:\tlearn: 0.6964981\ttest: 0.2134831\tbest: 0.2172285 (202)\ttotal: 3.46s\tremaining: 708ms\n",
      "249:\tlearn: 0.7052529\ttest: 0.2134831\tbest: 0.2172285 (202)\ttotal: 3.47s\tremaining: 694ms\n",
      "250:\tlearn: 0.7013619\ttest: 0.2134831\tbest: 0.2172285 (202)\ttotal: 3.48s\tremaining: 680ms\n",
      "251:\tlearn: 0.7023346\ttest: 0.2134831\tbest: 0.2172285 (202)\ttotal: 3.5s\tremaining: 666ms\n",
      "252:\tlearn: 0.7003891\ttest: 0.2134831\tbest: 0.2172285 (202)\ttotal: 3.51s\tremaining: 652ms\n",
      "253:\tlearn: 0.7023346\ttest: 0.2134831\tbest: 0.2172285 (202)\ttotal: 3.52s\tremaining: 638ms\n",
      "254:\tlearn: 0.7052529\ttest: 0.2134831\tbest: 0.2172285 (202)\ttotal: 3.54s\tremaining: 624ms\n",
      "255:\tlearn: 0.7062257\ttest: 0.2134831\tbest: 0.2172285 (202)\ttotal: 3.55s\tremaining: 611ms\n",
      "256:\tlearn: 0.7071984\ttest: 0.2134831\tbest: 0.2172285 (202)\ttotal: 3.57s\tremaining: 597ms\n",
      "257:\tlearn: 0.7130350\ttest: 0.2134831\tbest: 0.2172285 (202)\ttotal: 3.59s\tremaining: 584ms\n",
      "258:\tlearn: 0.7159533\ttest: 0.2134831\tbest: 0.2172285 (202)\ttotal: 3.6s\tremaining: 570ms\n",
      "259:\tlearn: 0.7169261\ttest: 0.2134831\tbest: 0.2172285 (202)\ttotal: 3.61s\tremaining: 556ms\n",
      "260:\tlearn: 0.7159533\ttest: 0.2134831\tbest: 0.2172285 (202)\ttotal: 3.63s\tremaining: 542ms\n",
      "261:\tlearn: 0.7198444\ttest: 0.2134831\tbest: 0.2172285 (202)\ttotal: 3.64s\tremaining: 528ms\n",
      "262:\tlearn: 0.7237354\ttest: 0.2134831\tbest: 0.2172285 (202)\ttotal: 3.65s\tremaining: 514ms\n",
      "263:\tlearn: 0.7178988\ttest: 0.2134831\tbest: 0.2172285 (202)\ttotal: 3.67s\tremaining: 500ms\n",
      "264:\tlearn: 0.7227626\ttest: 0.2134831\tbest: 0.2172285 (202)\ttotal: 3.68s\tremaining: 487ms\n",
      "265:\tlearn: 0.7256809\ttest: 0.2134831\tbest: 0.2172285 (202)\ttotal: 3.7s\tremaining: 473ms\n",
      "266:\tlearn: 0.7295720\ttest: 0.2134831\tbest: 0.2172285 (202)\ttotal: 3.71s\tremaining: 459ms\n",
      "267:\tlearn: 0.7315175\ttest: 0.2134831\tbest: 0.2172285 (202)\ttotal: 3.73s\tremaining: 445ms\n",
      "268:\tlearn: 0.7305447\ttest: 0.2097378\tbest: 0.2172285 (202)\ttotal: 3.74s\tremaining: 431ms\n",
      "269:\tlearn: 0.7354086\ttest: 0.2097378\tbest: 0.2172285 (202)\ttotal: 3.75s\tremaining: 417ms\n",
      "270:\tlearn: 0.7383268\ttest: 0.2097378\tbest: 0.2172285 (202)\ttotal: 3.77s\tremaining: 403ms\n",
      "271:\tlearn: 0.7500000\ttest: 0.2097378\tbest: 0.2172285 (202)\ttotal: 3.78s\tremaining: 389ms\n",
      "272:\tlearn: 0.7500000\ttest: 0.2097378\tbest: 0.2172285 (202)\ttotal: 3.79s\tremaining: 375ms\n",
      "273:\tlearn: 0.7490272\ttest: 0.2097378\tbest: 0.2172285 (202)\ttotal: 3.81s\tremaining: 361ms\n",
      "274:\tlearn: 0.7519455\ttest: 0.2097378\tbest: 0.2172285 (202)\ttotal: 3.82s\tremaining: 347ms\n",
      "275:\tlearn: 0.7558366\ttest: 0.2134831\tbest: 0.2172285 (202)\ttotal: 3.83s\tremaining: 333ms\n",
      "276:\tlearn: 0.7587549\ttest: 0.2097378\tbest: 0.2172285 (202)\ttotal: 3.85s\tremaining: 320ms\n",
      "277:\tlearn: 0.7568093\ttest: 0.2097378\tbest: 0.2172285 (202)\ttotal: 3.86s\tremaining: 306ms\n",
      "278:\tlearn: 0.7568093\ttest: 0.2134831\tbest: 0.2172285 (202)\ttotal: 3.88s\tremaining: 292ms\n",
      "279:\tlearn: 0.7616732\ttest: 0.2134831\tbest: 0.2172285 (202)\ttotal: 3.89s\tremaining: 278ms\n",
      "280:\tlearn: 0.7587549\ttest: 0.2134831\tbest: 0.2172285 (202)\ttotal: 3.9s\tremaining: 264ms\n",
      "281:\tlearn: 0.7616732\ttest: 0.2097378\tbest: 0.2172285 (202)\ttotal: 3.92s\tremaining: 250ms\n",
      "282:\tlearn: 0.7665370\ttest: 0.2134831\tbest: 0.2172285 (202)\ttotal: 3.93s\tremaining: 236ms\n",
      "283:\tlearn: 0.7645914\ttest: 0.2097378\tbest: 0.2172285 (202)\ttotal: 3.94s\tremaining: 222ms\n",
      "284:\tlearn: 0.7675097\ttest: 0.2097378\tbest: 0.2172285 (202)\ttotal: 3.96s\tremaining: 208ms\n",
      "285:\tlearn: 0.7684825\ttest: 0.2097378\tbest: 0.2172285 (202)\ttotal: 3.97s\tremaining: 195ms\n",
      "286:\tlearn: 0.7694553\ttest: 0.2097378\tbest: 0.2172285 (202)\ttotal: 3.99s\tremaining: 181ms\n",
      "287:\tlearn: 0.7694553\ttest: 0.2097378\tbest: 0.2172285 (202)\ttotal: 4s\tremaining: 167ms\n",
      "288:\tlearn: 0.7714008\ttest: 0.2097378\tbest: 0.2172285 (202)\ttotal: 4.02s\tremaining: 153ms\n",
      "289:\tlearn: 0.7752918\ttest: 0.2134831\tbest: 0.2172285 (202)\ttotal: 4.03s\tremaining: 139ms\n",
      "290:\tlearn: 0.7752918\ttest: 0.2097378\tbest: 0.2172285 (202)\ttotal: 4.04s\tremaining: 125ms\n",
      "291:\tlearn: 0.7772374\ttest: 0.2134831\tbest: 0.2172285 (202)\ttotal: 4.06s\tremaining: 111ms\n",
      "292:\tlearn: 0.7811284\ttest: 0.2134831\tbest: 0.2172285 (202)\ttotal: 4.07s\tremaining: 97.2ms\n",
      "293:\tlearn: 0.7801556\ttest: 0.2134831\tbest: 0.2172285 (202)\ttotal: 4.08s\tremaining: 83.4ms\n",
      "294:\tlearn: 0.7821012\ttest: 0.2134831\tbest: 0.2172285 (202)\ttotal: 4.1s\tremaining: 69.4ms\n",
      "295:\tlearn: 0.7821012\ttest: 0.2172285\tbest: 0.2172285 (202)\ttotal: 4.11s\tremaining: 55.5ms\n",
      "296:\tlearn: 0.7821012\ttest: 0.2172285\tbest: 0.2172285 (202)\ttotal: 4.13s\tremaining: 41.7ms\n",
      "297:\tlearn: 0.7830739\ttest: 0.2172285\tbest: 0.2172285 (202)\ttotal: 4.14s\tremaining: 27.8ms\n",
      "298:\tlearn: 0.7821012\ttest: 0.2172285\tbest: 0.2172285 (202)\ttotal: 4.15s\tremaining: 13.9ms\n",
      "299:\tlearn: 0.7791829\ttest: 0.2097378\tbest: 0.2172285 (202)\ttotal: 4.17s\tremaining: 0us\n",
      "\n",
      "bestTest = 0.2172284644\n",
      "bestIteration = 202\n",
      "\n",
      "Shrink model to first 203 iterations.\n"
     ]
    },
    {
     "data": {
      "text/plain": [
       "<catboost.core.CatBoostClassifier at 0x7f02fa9ad490>"
      ]
     },
     "execution_count": 29,
     "metadata": {},
     "output_type": "execute_result"
    }
   ],
   "source": [
    "# Start with simple logistic regression classifier for second baseline attempt\n",
    "clf_cb =  CatBoostClassifier(iterations=300, learning_rate=0.3, depth=6, eval_metric='Recall', random_seed=seed)\n",
    "clf_cb.fit(X_train, y_train, cat_features=cat_cols, eval_set=(X_test, y_test), use_best_model=True)"
   ]
  },
  {
   "cell_type": "code",
   "execution_count": 30,
   "metadata": {},
   "outputs": [
    {
     "name": "stdout",
     "output_type": "stream",
     "text": [
      "Test AUC score: 0.6028438917596513\n",
      "              precision    recall  f1-score   support\n",
      "\n",
      "           0       0.89      0.99      0.94      1733\n",
      "           1       0.74      0.22      0.34       267\n",
      "\n",
      "    accuracy                           0.89      2000\n",
      "   macro avg       0.82      0.60      0.64      2000\n",
      "weighted avg       0.87      0.89      0.86      2000\n",
      "\n",
      "Min accuracy to beat for just random guessing in the TEST set:\n",
      "0.8665\n"
     ]
    }
   ],
   "source": [
    "ypred = clf_cb.predict(X_test)\n",
    "score = roc_auc_score(y_test, ypred)\n",
    "\n",
    "print(f\"Test AUC score: {score}\")\n",
    "print(classification_report(y_test, ypred))\n",
    "\n",
    "print(\"Min accuracy to beat for just random guessing in the TEST set:\")\n",
    "print(len(y_test[y_test == 0])/len(y_test))"
   ]
  },
  {
   "cell_type": "code",
   "execution_count": null,
   "metadata": {},
   "outputs": [],
   "source": []
  }
 ],
 "metadata": {
  "kernelspec": {
   "display_name": "Python 3",
   "language": "python",
   "name": "python3"
  },
  "language_info": {
   "codemirror_mode": {
    "name": "ipython",
    "version": 3
   },
   "file_extension": ".py",
   "mimetype": "text/x-python",
   "name": "python",
   "nbconvert_exporter": "python",
   "pygments_lexer": "ipython3",
   "version": "3.7.6"
  }
 },
 "nbformat": 4,
 "nbformat_minor": 4
}
